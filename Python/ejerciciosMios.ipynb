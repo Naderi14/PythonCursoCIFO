{
 "cells": [
  {
   "cell_type": "markdown",
   "metadata": {},
   "source": [
    "**Ejercicio 1:** Juego de Adivina el Número (Computadora):\n",
    "En este proyecto, puedes crear un juego en el que la computadora adivine el número que estás pensando. Aprenderás a trabajar con el módulo aleatorio de Python, funciones, bucles while y condicionales"
   ]
  },
  {
   "cell_type": "code",
   "execution_count": 45,
   "metadata": {},
   "outputs": [
    {
     "name": "stdout",
     "output_type": "stream",
     "text": [
      "Piensa un numero aleatorio del 0 al 100\n",
      "27\n"
     ]
    }
   ],
   "source": [
    "import random\n",
    "numeroAdivinado = False\n",
    "numeroEsperado = False\n",
    "minimo = 0\n",
    "maximo = 100\n",
    "intentarNumero = random.random()\n",
    "\n",
    "\n",
    "print(\"Piensa un numero aleatorio del 0 al 100\")\n",
    "\n",
    "while numeroAdivinado == False:\n",
    "    intentarNumero = int(intentarNumero * 100)\n",
    "    print(intentarNumero)\n",
    "\n",
    "    elegirCercania = input('Indicame si es ( + ) mayor o ( - ) menor o es tu numero ( = )')\n",
    "    match elegirCercania:\n",
    "        case '+':\n",
    "            minimo = intentarNumero\n",
    "            while numeroEsperado == False:\n",
    "                intentarNumero = random.random()\n",
    "                \n",
    "\n",
    "        case '-':\n",
    "            maximo = intentarNumero\n",
    "\n",
    "        case '=':\n",
    "            numeroAdivinado = True\n",
    "\n",
    "print(f'Tu numero es el {intentarNumero}')\n",
    "\n",
    "\n",
    "\n",
    "print(intentarNumero)\n",
    "\n",
    "    "
   ]
  },
  {
   "cell_type": "markdown",
   "metadata": {},
   "source": [
    "**Ejercicio 2:** Juego de Adivina el Número (Usuario):\n",
    "En este caso, construirás un juego en el que la computadora debe adivinar el número que tú has elegido. También trabajarás con el módulo aleatorio, funciones y bucles"
   ]
  },
  {
   "cell_type": "code",
   "execution_count": null,
   "metadata": {},
   "outputs": [],
   "source": []
  },
  {
   "cell_type": "markdown",
   "metadata": {},
   "source": [
    "**Ejercicio 3:** Piedra, Papel o Tijera:\n",
    "Crea un juego clásico de piedra, papel o tijera. Utiliza random.choice(), condicionales y entrada de usuario para implementarlo"
   ]
  },
  {
   "cell_type": "code",
   "execution_count": null,
   "metadata": {},
   "outputs": [],
   "source": []
  },
  {
   "cell_type": "markdown",
   "metadata": {},
   "source": [
    "**Ejercicio 4:** Ahorcado (Hangman):\n",
    "Desarrolla el juego del ahorcado. Aprenderás a trabajar con diccionarios, listas y condicionales anidados"
   ]
  },
  {
   "cell_type": "code",
   "execution_count": null,
   "metadata": {},
   "outputs": [],
   "source": []
  },
  {
   "cell_type": "markdown",
   "metadata": {},
   "source": [
    "**Ejercicio 5:** Temporizador de Cuenta Regresiva:\n",
    "Construye un contador de tiempo regresivo utilizando el módulo time de Python"
   ]
  },
  {
   "cell_type": "code",
   "execution_count": null,
   "metadata": {},
   "outputs": [],
   "source": []
  },
  {
   "cell_type": "markdown",
   "metadata": {},
   "source": [
    "**Ejercicio 6:** Manipulación de Fotos:\n",
    "Explora cómo manipular imágenes utilizando bibliotecas como Pillow o OpenCV. Puedes realizar tareas como cambiar el tamaño, aplicar filtros o combinar imágenes"
   ]
  },
  {
   "cell_type": "code",
   "execution_count": null,
   "metadata": {},
   "outputs": [],
   "source": []
  },
  {
   "cell_type": "markdown",
   "metadata": {},
   "source": [
    "**Ejercicio 7:** Resolver Sudokus:\n",
    "Implementa un solucionador de sudokus utilizando algoritmos de búsqueda o backtracking"
   ]
  },
  {
   "cell_type": "code",
   "execution_count": null,
   "metadata": {},
   "outputs": [],
   "source": []
  },
  {
   "cell_type": "markdown",
   "metadata": {},
   "source": [
    "**Ejercicio 8:** Generador de Contraseñas:\n",
    "Crea un programa que genere contraseñas seguras. Puedes personalizar la longitud y los caracteres permitidos"
   ]
  },
  {
   "cell_type": "code",
   "execution_count": null,
   "metadata": {},
   "outputs": [],
   "source": []
  },
  {
   "cell_type": "markdown",
   "metadata": {},
   "source": [
    "**Ejercicio 9:** Juego de la Serpiente:\n",
    "Desarrolla el clásico juego de la serpiente. Utiliza listas, bucles y condicionales para su implementación"
   ]
  },
  {
   "cell_type": "code",
   "execution_count": null,
   "metadata": {},
   "outputs": [],
   "source": []
  },
  {
   "cell_type": "markdown",
   "metadata": {},
   "source": [
    "**Ejercicio 10:** Programa de Scraping Web:\n",
    "Crea un programa que extraiga información de páginas web utilizando bibliotecas como Beautiful Soup o Scrapy"
   ]
  },
  {
   "cell_type": "code",
   "execution_count": null,
   "metadata": {},
   "outputs": [],
   "source": []
  }
 ],
 "metadata": {
  "kernelspec": {
   "display_name": "Python 3",
   "language": "python",
   "name": "python3"
  },
  "language_info": {
   "codemirror_mode": {
    "name": "ipython",
    "version": 3
   },
   "file_extension": ".py",
   "mimetype": "text/x-python",
   "name": "python",
   "nbconvert_exporter": "python",
   "pygments_lexer": "ipython3",
   "version": "3.12.3"
  }
 },
 "nbformat": 4,
 "nbformat_minor": 2
}
