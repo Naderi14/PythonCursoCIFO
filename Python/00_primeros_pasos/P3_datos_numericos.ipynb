{
 "cells": [
  {
   "cell_type": "markdown",
   "metadata": {},
   "source": [
    "Datos numéricos en Python"
   ]
  },
  {
   "cell_type": "markdown",
   "metadata": {},
   "source": [
    "Podemos distinguir entre dos tipos de datos numéricos:\n",
    "    **Enteros**: no tienen parte decimal y van desde -infinito a +infinito.\n",
    "    **Flotantes**: números que tienen una parte decimal separada por un punto"
   ]
  },
  {
   "cell_type": "code",
   "execution_count": 1,
   "metadata": {},
   "outputs": [
    {
     "name": "stdout",
     "output_type": "stream",
     "text": [
      "<class 'int'>\n",
      "<class 'float'>\n"
     ]
    }
   ],
   "source": [
    "#Declaración de valores numéricos asociados a variables\n",
    "num1 = 10\n",
    "num2 = 2.3\n",
    "print(type(num1))\n",
    "print(type(num2))"
   ]
  },
  {
   "cell_type": "markdown",
   "metadata": {},
   "source": [
    "Operaciónes algebraicas matemáticas (hay 7), operadores y expresiones:\n",
    "-Suma '+'\n",
    "-Resta '-'\n",
    "-Multiplicación '*'\n",
    "-División ' /'\n",
    "-División entera '//' si tiene decimales no los coloca\n",
    "-Potencia '**'\n",
    "-Módulo o resto de la división '%'\n",
    "\n",
    "Algunas funciones:\n",
    "-round (variable, num decimales). nos permite establecer la cantidad de decimales de salida."
   ]
  },
  {
   "cell_type": "code",
   "execution_count": 2,
   "metadata": {},
   "outputs": [
    {
     "name": "stdout",
     "output_type": "stream",
     "text": [
      "Suma: 12.3\n"
     ]
    }
   ],
   "source": [
    "#salida con expresión algebraica\n",
    "print('Suma:', num1 + num2)"
   ]
  },
  {
   "cell_type": "code",
   "execution_count": 11,
   "metadata": {},
   "outputs": [
    {
     "name": "stdout",
     "output_type": "stream",
     "text": [
      "Suma de 10 + 2.3 = 12.3\n",
      "Suma de 10 + 2.3 = 12.3\n"
     ]
    }
   ],
   "source": [
    "#más elaborado\n",
    "print(f'Suma de {num1} + {num2} = {num1 + num2}')\n",
    "print('Suma de {} + {} = {}'. format(num1, num2, num1 + num2)) #forma alternativa"
   ]
  },
  {
   "cell_type": "code",
   "execution_count": 8,
   "metadata": {},
   "outputs": [
    {
     "name": "stdout",
     "output_type": "stream",
     "text": [
      "7.7\n",
      "23.0\n",
      "4.347826086956522\n",
      "4.0\n",
      "199.52623149688787\n",
      "0.8000000000000007\n"
     ]
    }
   ],
   "source": [
    "#Operaciones algebraicas con asignación\n",
    "resta = num1 - num2\n",
    "multiplicacion= num1 * num2\n",
    "division= num1 / num2\n",
    "divisionEntera= num1 // num2\n",
    "potencia= num1 ** num2\n",
    "restoDivision= num1 % num2\n",
    "\n",
    "#Salidas\n",
    "print(resta)\n",
    "print(multiplicacion)\n",
    "print(division)\n",
    "print(divisionEntera)\n",
    "print(potencia)\n",
    "print(restoDivision)"
   ]
  }
 ],
 "metadata": {
  "kernelspec": {
   "display_name": "Python 3",
   "language": "python",
   "name": "python3"
  },
  "language_info": {
   "codemirror_mode": {
    "name": "ipython",
    "version": 3
   },
   "file_extension": ".py",
   "mimetype": "text/x-python",
   "name": "python",
   "nbconvert_exporter": "python",
   "pygments_lexer": "ipython3",
   "version": "3.12.3"
  }
 },
 "nbformat": 4,
 "nbformat_minor": 2
}
