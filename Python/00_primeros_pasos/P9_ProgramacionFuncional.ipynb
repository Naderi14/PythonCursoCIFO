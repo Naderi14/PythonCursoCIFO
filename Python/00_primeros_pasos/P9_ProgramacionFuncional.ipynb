{
 "cells": [
  {
   "cell_type": "markdown",
   "metadata": {},
   "source": [
    "## Programacion Funcional\n",
    "Una función es un bloque de código que tiene asociado un nombre de forma que cada vez que se quiera ejecutar el bloque de codigo basta con invocar el nombre de la funcion.\n",
    "Para declarar una funcion usamos las siguientes sintaxis:\n",
    "    def <nombre_funcion>(parámetros):\n",
    "        bloque de código\n",
    "        return <objeto>"
   ]
  },
  {
   "cell_type": "code",
   "execution_count": 1,
   "metadata": {},
   "outputs": [
    {
     "name": "stdout",
     "output_type": "stream",
     "text": [
      "hello\n"
     ]
    }
   ],
   "source": [
    "def Saludo():\n",
    "    print('hello')\n",
    "\n",
    "Saludo()"
   ]
  },
  {
   "cell_type": "markdown",
   "metadata": {},
   "source": [
    "### Parámetros y argumentos de una función\n",
    "Una funcion puede recibir valores cuando se invoca a través de unas variables conocidas como parámetros que se definene entre los paréntesis en la declaracion de la funcion. En el cuerpo de la funcion se pueden usar estos parámetros como si fuesen variables.\n",
    "\n",
    "Los valores que se pasan a la funcion en una invocación concreta de ella, se conocen como **argumentos** y se asocian a los **parámetros** de la declaracion de la función."
   ]
  },
  {
   "cell_type": "code",
   "execution_count": null,
   "metadata": {},
   "outputs": [],
   "source": [
    "def bienvenida(nombreUsuario):\n",
    "    print(f'Bienvenido {nombreUsuario}')\n",
    "    \n",
    "bienvenida(input('Su nombre por favor para darle la bienvenida'))"
   ]
  },
  {
   "cell_type": "markdown",
   "metadata": {},
   "source": [
    "Los argumentos se pueden pasar de dos formas:\n",
    "    · Argumentos posicionales: se asocian a los parámetros de la funcion en el mismo orden que aparecen en la definición de la función\n",
    "    · Argumentos nominales: se indican explícitamente el nombre del parámetro al que se asocia un argumento de la forma <parametro = argumento>"
   ]
  },
  {
   "cell_type": "code",
   "execution_count": 2,
   "metadata": {},
   "outputs": [
    {
     "name": "stdout",
     "output_type": "stream",
     "text": [
      "Bienvenido al curso de Python, David Martin\n",
      "Bienvenido al curso de Python, Raul Rodriguez\n"
     ]
    }
   ],
   "source": [
    "def bienvenida(nombre, apellido):\n",
    "    print(f'Bienvenido al curso de Python, {nombre} {apellido}')\n",
    "\n",
    "# argumentos posicionales\n",
    "bienvenida('David', 'Martin')\n",
    "\n",
    "# argumentos nominales\n",
    "bienvenida(apellido = 'Rodriguez', nombre = 'Raul')"
   ]
  },
  {
   "cell_type": "markdown",
   "metadata": {},
   "source": [
    "En la definicion de una funcion podemos asignar a cada parámetro un argumento por defecto, de forma que se invoca la funcion sin proporcionar ningun argumentos para ese parámetro , se utilice el argumento por defecto. De esta forma evitamos errores de ejecución"
   ]
  },
  {
   "cell_type": "code",
   "execution_count": 3,
   "metadata": {},
   "outputs": [
    {
     "name": "stdout",
     "output_type": "stream",
     "text": [
      "Bienvenido al curso de Python, Gerard\n",
      "Bienvenido al curso de JavaScript, Susana\n"
     ]
    }
   ],
   "source": [
    "def saludoInicial2(nombre, lenguaje = 'Python'):\n",
    "    print(f'Bienvenido al curso de {lenguaje}, {nombre}')\n",
    "\n",
    "saludoInicial2('Gerard')\n",
    "saludoInicial2('Susana', 'JavaScript')"
   ]
  },
  {
   "cell_type": "markdown",
   "metadata": {},
   "source": [
    "También es posible pasar un numero variable de argumentos a un parámetro. Esto se puede realizar de la siguiente forma:\n",
    "- ***parametro***: Se antepone un asterisco al nombre del parámetro y en la invocacion de la funcion se pasa el numero variable de argumentos separados por comas. Los argumentos se guardan en una lista que se asocia al parámetro."
   ]
  },
  {
   "cell_type": "code",
   "execution_count": 6,
   "metadata": {},
   "outputs": [
    {
     "name": "stdout",
     "output_type": "stream",
     "text": [
      "Hoy tenemos para comer:  pasta, hamburguesa, ensalada, "
     ]
    }
   ],
   "source": [
    "def menu(*platos):\n",
    "    print('Hoy tenemos para comer: ', end = \" \")\n",
    "    for plato in platos:\n",
    "        print(plato, end = ', ')\n",
    "\n",
    "menu('pasta','hamburguesa', 'ensalada')"
   ]
  },
  {
   "cell_type": "code",
   "execution_count": 4,
   "metadata": {},
   "outputs": [
    {
     "name": "stdout",
     "output_type": "stream",
     "text": [
      "Ingredientes para el bizcocho: azucar, huevos, leche\n"
     ]
    }
   ],
   "source": [
    "# Pasando una lista como parámetro\n",
    "def ingredientes(lista):\n",
    "    print('Ingredientes para el bizcocho', end = ': ')\n",
    "    print(', '.join(lista))\n",
    "\n",
    "lista = ['azucar', 'huevos', 'leche']\n",
    "ingredientes(lista)"
   ]
  },
  {
   "cell_type": "markdown",
   "metadata": {},
   "source": [
    "## Ámbito de los parámetros y variables de una función\n",
    "Los parámetros y las variables declaradas dentro de una función son de **ámbito local** (Local Scope), sólo son accesibles durante la ejecución de la función. Cuando ésta termina su ejecución, no se puede acceder a ellas.\n",
    "\n",
    "Las variables que se definen fuera de la función, son de **ámbito global** y pueden ser accesibles desde dentro de la función."
   ]
  },
  {
   "cell_type": "code",
   "execution_count": 5,
   "metadata": {},
   "outputs": [
    {
     "name": "stdout",
     "output_type": "stream",
     "text": [
      "a\n",
      "Lola\n"
     ]
    },
    {
     "ename": "NameError",
     "evalue": "name 'nombre' is not defined",
     "output_type": "error",
     "traceback": [
      "\u001b[1;31m---------------------------------------------------------------------------\u001b[0m",
      "\u001b[1;31mNameError\u001b[0m                                 Traceback (most recent call last)",
      "Cell \u001b[1;32mIn[5], line 12\u001b[0m\n\u001b[0;32m     10\u001b[0m     \u001b[38;5;28mprint\u001b[39m(nombre)\n\u001b[0;32m     11\u001b[0m prueba()\n\u001b[1;32m---> 12\u001b[0m \u001b[38;5;28mprint\u001b[39m(\u001b[43mnombre\u001b[49m)\n",
      "\u001b[1;31mNameError\u001b[0m: name 'nombre' is not defined"
     ]
    }
   ],
   "source": [
    "# Ejemplo de variable global\n",
    "dato = 'a'\n",
    "def test():\n",
    "    print(dato)\n",
    "test()\n",
    "\n",
    "#Ejemplo de variable local\n",
    "def prueba():\n",
    "    nombre = 'Lola'\n",
    "    print(nombre)\n",
    "prueba()\n",
    "print(nombre)"
   ]
  },
  {
   "cell_type": "code",
   "execution_count": 7,
   "metadata": {},
   "outputs": [
    {
     "name": "stdout",
     "output_type": "stream",
     "text": [
      "Martin\n",
      "Acosta\n"
     ]
    }
   ],
   "source": [
    "# variables local y global con el mismo nombre\n",
    "apellido = 'Martin'\n",
    "def usuario():\n",
    "    apellido = 'Acosta'\n",
    "    print(apellido)\n",
    "print(apellido)\n",
    "usuario()"
   ]
  },
  {
   "cell_type": "markdown",
   "metadata": {},
   "source": [
    "## Retorno de una función\n",
    "Una función puede devolver un objeto de cualquier tipo tras su invocación. Para ellos, el objeto a devolver tiene que escribirse detrás de la palabra reservada **return**. Si no se indica ningún objeto, la función no devolverá nada."
   ]
  },
  {
   "cell_type": "code",
   "execution_count": 8,
   "metadata": {},
   "outputs": [
    {
     "name": "stdout",
     "output_type": "stream",
     "text": [
      "3.0\n"
     ]
    }
   ],
   "source": [
    "def AreaTriangulo(base, altura):\n",
    "    return base * altura / 2\n",
    "\n",
    "print(AreaTriangulo(2,3))"
   ]
  },
  {
   "cell_type": "code",
   "execution_count": 9,
   "metadata": {},
   "outputs": [
    {
     "name": "stdout",
     "output_type": "stream",
     "text": [
      "[1, 2, 3, 4, 5]\n",
      "3\n"
     ]
    }
   ],
   "source": [
    "def Devolucion():\n",
    "    return [1,2,3,4,5]\n",
    "\n",
    "print(Devolucion())\n",
    "print(Devolucion()[2])"
   ]
  },
  {
   "cell_type": "markdown",
   "metadata": {},
   "source": [
    "Una característica interesante que tiene Python, es que podemos realizar un retorno múltiple de valores separados por comas."
   ]
  },
  {
   "cell_type": "code",
   "execution_count": 12,
   "metadata": {},
   "outputs": [
    {
     "name": "stdout",
     "output_type": "stream",
     "text": [
      "('Una cadena de texto', 50, [1, 2, 3, 4, 5])\n",
      "[1, 2, 3, 4, 5]\n"
     ]
    }
   ],
   "source": [
    "def Devoluciones():\n",
    "    return 'Una cadena de texto', 50, [1,2,3,4,5]\n",
    "\n",
    "print(Devoluciones())\n",
    "print(Devoluciones()[2])"
   ]
  },
  {
   "cell_type": "markdown",
   "metadata": {},
   "source": [
    "El resultado es el retorno de una tupla inmutable, que posteriormente podemos reasignar a distintas variables."
   ]
  },
  {
   "cell_type": "code",
   "execution_count": 11,
   "metadata": {},
   "outputs": [
    {
     "name": "stdout",
     "output_type": "stream",
     "text": [
      "Una cadena de texto\n",
      "50\n",
      "[1, 2, 3, 4, 5]\n"
     ]
    }
   ],
   "source": [
    "cadena, numero, lista = Devoluciones()\n",
    "print(cadena)\n",
    "print(numero)\n",
    "print(lista)"
   ]
  },
  {
   "cell_type": "markdown",
   "metadata": {},
   "source": [
    "## Documentación de funciones\n",
    "Una práctica muy recomendable cuando se define una función, es describir lo que esa función hace con un comentario. En python, esto se hace con un **docstring**, que es un tipo de comentario especial que se hace en la línea siguiente al encabezado de la función entre comillas simples o dobles. Después podemos acceder a la documentación de esa función invocando al comando *help*"
   ]
  },
  {
   "cell_type": "code",
   "execution_count": 15,
   "metadata": {},
   "outputs": [
    {
     "name": "stdout",
     "output_type": "stream",
     "text": [
      "Help on function AreaTriangulo in module __main__:\n",
      "\n",
      "AreaTriangulo(base, altura)\n",
      "    Funcion para calcular el área de un triángulo.\n",
      "\n",
      "    Parámetros:\n",
      "        - base: número real con la base del triángulo\n",
      "        - altura: número real con la altura del triángulo\n",
      "\n",
      "    Salida:\n",
      "        - número real con el área del triángulo de base y altura especificada\n",
      "\n",
      "Help on built-in function issubclass in module builtins:\n",
      "\n",
      "issubclass(cls, class_or_tuple, /)\n",
      "    Return whether 'cls' is derived from another class or is the same class.\n",
      "\n",
      "    A tuple, as in ``issubclass(x, (A, B, ...))``, may be given as the target to\n",
      "    check against. This is equivalent to ``issubclass(x, A) or issubclass(x, B)\n",
      "    or ...``.\n",
      "\n"
     ]
    }
   ],
   "source": [
    "def AreaTriangulo(base, altura):\n",
    "    '''\n",
    "        Funcion para calcular el área de un triángulo.\n",
    "\n",
    "        Parámetros:\n",
    "            - base: número real con la base del triángulo\n",
    "            - altura: número real con la altura del triángulo\n",
    "        \n",
    "        Salida:\n",
    "            - número real con el área del triángulo de base y altura especificada\n",
    "    '''\n",
    "    return base * altura / 2\n",
    "\n",
    "help(AreaTriangulo)\n",
    "\n",
    "help(issubclass)"
   ]
  }
 ],
 "metadata": {
  "kernelspec": {
   "display_name": "Python 3",
   "language": "python",
   "name": "python3"
  },
  "language_info": {
   "codemirror_mode": {
    "name": "ipython",
    "version": 3
   },
   "file_extension": ".py",
   "mimetype": "text/x-python",
   "name": "python",
   "nbconvert_exporter": "python",
   "pygments_lexer": "ipython3",
   "version": "3.12.3"
  },
  "orig_nbformat": 4
 },
 "nbformat": 4,
 "nbformat_minor": 2
}
