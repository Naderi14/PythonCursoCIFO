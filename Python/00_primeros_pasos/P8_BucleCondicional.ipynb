{
 "cells": [
  {
   "cell_type": "markdown",
   "metadata": {},
   "source": [
    "# Bucles Condicionales\n",
    "### Sentencia While (Mientras)\n",
    "La sentencia While se basa en repetir un bloque de código a partir de la evaluación de una condición lógica, siempre que ésta sea \"True\""
   ]
  },
  {
   "cell_type": "code",
   "execution_count": 2,
   "metadata": {},
   "outputs": [
    {
     "name": "stdout",
     "output_type": "stream",
     "text": [
      "0\n",
      "1\n",
      "2\n",
      "3\n",
      "4\n",
      "5\n",
      "6\n",
      "7\n",
      "8\n",
      "9\n",
      "Fin del programa\n"
     ]
    }
   ],
   "source": [
    "# Ejemplo\n",
    "variable1 = 0\n",
    "\n",
    "while variable1 < 10:\n",
    "    print(variable1)\n",
    "    variable1 += 1\n",
    "\n",
    "print('Fin del programa')"
   ]
  },
  {
   "cell_type": "markdown",
   "metadata": {},
   "source": [
    "  ### Sentencia \"else\" en un bucle While\n",
    "  Podemos añadir una cláusula \"else\" para indicar qué sucede cuando la condición deja de cumplirse(false)"
   ]
  },
  {
   "cell_type": "code",
   "execution_count": 3,
   "metadata": {},
   "outputs": [
    {
     "name": "stdout",
     "output_type": "stream",
     "text": [
      "0\n",
      "1\n",
      "2\n",
      "3\n",
      "4\n",
      "5\n",
      "6\n",
      "7\n",
      "8\n",
      "9\n",
      "La variable 2 ya esta por encima de 10\n"
     ]
    }
   ],
   "source": [
    "variable2 = 0\n",
    "\n",
    "while variable2 < 10:\n",
    "    print(variable2)\n",
    "    variable2 += 1\n",
    "else:\n",
    "    print(\"La variable 2 ya esta por encima de 10\")"
   ]
  },
  {
   "cell_type": "markdown",
   "metadata": {},
   "source": [
    "### Sentencia \"break\"\n",
    "La sentencia \"break\" sirve para interrumpir la ejecución del bucle \"While\" en el momento que nosotros decidamos. No se ejecutará la sentencia \"else\", ya que forma parte del bucle \"While\""
   ]
  },
  {
   "cell_type": "code",
   "execution_count": 6,
   "metadata": {},
   "outputs": [
    {
     "name": "stdout",
     "output_type": "stream",
     "text": [
      "0\n",
      "1\n",
      "2\n",
      "3\n",
      "4\n",
      "5\n",
      "Programa finalizado\n"
     ]
    }
   ],
   "source": [
    "variable4 = 0\n",
    "\n",
    "while variable4 < 10:\n",
    "    print(variable4)\n",
    "\n",
    "    if variable4 == 5:\n",
    "        break\n",
    "\n",
    "    variable4 += 1\n",
    "else:\n",
    "    print(\"La variable 3 ya esta por encima de 10\")\n",
    "\n",
    "print(\"Programa finalizado\")"
   ]
  },
  {
   "cell_type": "markdown",
   "metadata": {},
   "source": [
    "### Sentencia \"continue\"\n",
    "Sirve para saltarse la iteración actual en caso de cumplirse la condición pero sin romper la ejecución del bucle. De forma explicada en detalle el \"continue\" en el momento en que el programa lee esa linea deja de continuar con el codigo que se encuentra dentro del código y realiza un nuevo bucle de todo el código.\n",
    "\n",
    "En este ejemplo si no asignaramos valor 8 a la variable4, se quedaria en bucle infinito ya que como sumamos posteriormente su valor de donde se encuentra el \"continue\" nunca actualizaria su valor"
   ]
  },
  {
   "cell_type": "code",
   "execution_count": 9,
   "metadata": {},
   "outputs": [
    {
     "name": "stdout",
     "output_type": "stream",
     "text": [
      "0\n",
      "1\n",
      "2\n",
      "3\n",
      "4\n",
      "5\n",
      "8\n",
      "9\n",
      "La variable 3 ya esta por encima de 10\n",
      "Programa finalizado\n"
     ]
    }
   ],
   "source": [
    "variable4 = 0\n",
    "\n",
    "while variable4 < 10:\n",
    "    print(variable4)\n",
    "    \n",
    "    if variable4 == 5:\n",
    "        variable4 = 8\n",
    "        continue\n",
    "    \n",
    "    variable4 += 1\n",
    "    \n",
    "else:\n",
    "    print(\"La variable 3 ya esta por encima de 10\")\n",
    "\n",
    "print(\"Programa finalizado\")"
   ]
  },
  {
   "cell_type": "markdown",
   "metadata": {},
   "source": [
    "### Uso de banderas o flags\n",
    "Con el uso de una variable tipo bool podemos simular una bandera/flag para controlar el flujo del bucle hasta que se quiera finalizar el mismo"
   ]
  },
  {
   "cell_type": "code",
   "execution_count": 10,
   "metadata": {},
   "outputs": [
    {
     "name": "stdout",
     "output_type": "stream",
     "text": [
      "El número es impar\n",
      "El número es par\n",
      "El número es par\n",
      "El número es par\n",
      "El número es impar\n",
      "El número es par\n",
      "El número es par\n",
      "El número es par\n",
      "El número es impar\n",
      "El número es impar\n",
      "Fin del programa\n"
     ]
    }
   ],
   "source": [
    "control = True\n",
    "\n",
    "while control:\n",
    "    numero = int(input('Introduce el número(0 para salir)'))\n",
    "    if numero == 0:\n",
    "        control = False\n",
    "    elif numero % 2 == 0:\n",
    "        print(\"El número es par\")\n",
    "    else:\n",
    "        print(\"El número es impar\")\n",
    "else:\n",
    "    print(\"Fin del programa\")"
   ]
  }
 ],
 "metadata": {
  "kernelspec": {
   "display_name": "Python 3",
   "language": "python",
   "name": "python3"
  },
  "language_info": {
   "codemirror_mode": {
    "name": "ipython",
    "version": 3
   },
   "file_extension": ".py",
   "mimetype": "text/x-python",
   "name": "python",
   "nbconvert_exporter": "python",
   "pygments_lexer": "ipython3",
   "version": "3.12.3"
  }
 },
 "nbformat": 4,
 "nbformat_minor": 2
}
