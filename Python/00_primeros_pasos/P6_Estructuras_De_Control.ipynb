{
 "cells": [
  {
   "cell_type": "markdown",
   "metadata": {},
   "source": [
    "<h1>Las estructuras de control</h1>\n",
    "Las sentencias condicionales nos permiten analizar el estado actual de un programa y responder a dicho estado"
   ]
  },
  {
   "cell_type": "markdown",
   "metadata": {},
   "source": [
    "### Operadores relacionales ###\n",
    "Tenemos varios operadores relacionales o de comparación:\n",
    "- '==', operador de igualdad\n",
    "- '!=', operador de desigualdad\n",
    "- '< >', operadores de menor que y mayor que\n",
    "- '<= >=', operadores de menor o igual que y mayor o igual que\n",
    "\n",
    "    "
   ]
  },
  {
   "cell_type": "code",
   "execution_count": null,
   "metadata": {},
   "outputs": [],
   "source": [
    "#Ejemplos\n",
    "a = 'profesor'\n",
    "b = 'alumno'\n",
    "numero1 = 10\n",
    "numero2 = 12\n",
    "\n",
    "print(a == b)               # false\n",
    "print(a != b)               # true\n",
    "print(numero1 <= 10)        # true\n",
    "print(numero2 >= 14)        # false\n",
    "print(numero1 < numero2)    # true\n",
    "print(numero1 > numero2)    # false\n"
   ]
  },
  {
   "cell_type": "markdown",
   "metadata": {},
   "source": [
    "### Operadores lógicos ###\n",
    "Los operadores lógicos se usan para tomar una decision en multiples condiciones: \n",
    "- **and**, devuelve True si ambos operandos son True\n",
    "- **or**, devuelve True si alguno de los operandos es True\n",
    "- **not**, devuelve True si alguno de los operandos es False"
   ]
  },
  {
   "cell_type": "code",
   "execution_count": 3,
   "metadata": {},
   "outputs": [
    {
     "name": "stdout",
     "output_type": "stream",
     "text": [
      "False\n",
      "True\n"
     ]
    }
   ],
   "source": [
    "#Ejemplos\n",
    "edad1 = 32\n",
    "edad2 = 28\n",
    "operadorAnd = edad1 >= 21 and edad2 >= 31\n",
    "operadorOr = edad1 >= 31 or edad2 >= 31\n",
    "print(operadorAnd)\n",
    "print(operadorOr)\n"
   ]
  },
  {
   "cell_type": "markdown",
   "metadata": {},
   "source": [
    "### Condicional Simple if ###\n",
    "En toda sentencia *if* hay una expresion que se va a evaluar como verdadera (**true**) o falsa (**false**). Es lo que llamamos prueba condicional. El tipo más simple de sentencia *if* tiene una prueba y una acción"
   ]
  },
  {
   "cell_type": "code",
   "execution_count": 4,
   "metadata": {},
   "outputs": [
    {
     "name": "stdout",
     "output_type": "stream",
     "text": [
      "KTM\n",
      "Fin del programa\n"
     ]
    }
   ],
   "source": [
    "#Ejemplo\n",
    "motocicletas = ['yamaha','ducati','lebroni','ktm','honda']\n",
    "\n",
    "for moto in motocicletas:\n",
    "    if moto == 'ktm':\n",
    "        print(moto.upper())\n",
    "\n",
    "print('Fin del programa')"
   ]
  },
  {
   "cell_type": "markdown",
   "metadata": {},
   "source": [
    "## Condicional *if-else* ##\n",
    "Un bloque *if-else* es similar a una sentencia *if* simple, pero la sentencia *else* nos permite definir un conjunto de acciones que se ejecutan cuando la prueba condicional falla"
   ]
  },
  {
   "cell_type": "code",
   "execution_count": 9,
   "metadata": {},
   "outputs": [
    {
     "name": "stdout",
     "output_type": "stream",
     "text": [
      "Yamaha\n",
      "Ducati\n",
      "Lebroni\n",
      "KTM\n",
      "Honda\n",
      "Fin del programa\n"
     ]
    }
   ],
   "source": [
    "#Ejemplo\n",
    "motocicletas = ['yamaha','ducati','lebroni','ktm','honda']\n",
    "\n",
    "for moto in motocicletas:\n",
    "    if moto == 'ktm':\n",
    "        print(moto.upper())\n",
    "    else:\n",
    "        print(moto.capitalize())\n",
    "\n",
    "print('Fin del programa')"
   ]
  },
  {
   "cell_type": "markdown",
   "metadata": {},
   "source": [
    "No podemos dejar una sentencia condicional vacía, ya que nos va a generar un error. En este caso, podemos usar la orden *pass*"
   ]
  },
  {
   "cell_type": "code",
   "execution_count": 10,
   "metadata": {},
   "outputs": [
    {
     "name": "stdout",
     "output_type": "stream",
     "text": [
      "Mensaje a mostrar\n"
     ]
    }
   ],
   "source": [
    "variable3 = 10\n",
    "\n",
    "if variable3 < 10:\n",
    "    pass\n",
    "else:\n",
    "    print('Mensaje a mostrar')\n"
   ]
  }
 ],
 "metadata": {
  "kernelspec": {
   "display_name": "Python 3",
   "language": "python",
   "name": "python3"
  },
  "language_info": {
   "codemirror_mode": {
    "name": "ipython",
    "version": 3
   },
   "file_extension": ".py",
   "mimetype": "text/x-python",
   "name": "python",
   "nbconvert_exporter": "python",
   "pygments_lexer": "ipython3",
   "version": "3.12.3"
  }
 },
 "nbformat": 4,
 "nbformat_minor": 2
}
