{
 "cells": [
  {
   "cell_type": "markdown",
   "metadata": {},
   "source": [
    "# Leyendo valores por teclado"
   ]
  },
  {
   "cell_type": "markdown",
   "metadata": {},
   "source": [
    "Las entradas de datos se pueden conseguir con la instrucción *input()* que lee y devuelve una cadena o *string* ***************************"
   ]
  },
  {
   "cell_type": "code",
   "execution_count": 3,
   "metadata": {},
   "outputs": [
    {
     "name": "stdout",
     "output_type": "stream",
     "text": [
      "manu\n"
     ]
    }
   ],
   "source": [
    "# Entrada asignada a la variable valor\n",
    "valor = input()\n",
    "print(valor)"
   ]
  },
  {
   "cell_type": "code",
   "execution_count": 4,
   "metadata": {},
   "outputs": [
    {
     "name": "stdout",
     "output_type": "stream",
     "text": [
      "<class 'str'>\n"
     ]
    }
   ],
   "source": [
    "# Hacemos la entrada numérica\n",
    "valor = input()\n",
    "print(type(valor))"
   ]
  },
  {
   "cell_type": "code",
   "execution_count": 5,
   "metadata": {},
   "outputs": [
    {
     "data": {
      "text/plain": [
       "'manu'"
      ]
     },
     "execution_count": 5,
     "metadata": {},
     "output_type": "execute_result"
    }
   ],
   "source": [
    "valor # aquí lo muestra entre comillas"
   ]
  },
  {
   "cell_type": "code",
   "execution_count": 6,
   "metadata": {},
   "outputs": [
    {
     "ename": "TypeError",
     "evalue": "can only concatenate str (not \"int\") to str",
     "output_type": "error",
     "traceback": [
      "\u001b[1;31m---------------------------------------------------------------------------\u001b[0m",
      "\u001b[1;31mTypeError\u001b[0m                                 Traceback (most recent call last)",
      "Cell \u001b[1;32mIn[6], line 2\u001b[0m\n\u001b[0;32m      1\u001b[0m \u001b[38;5;66;03m#Sumamos a la cadena un valor numérico\u001b[39;00m\n\u001b[1;32m----> 2\u001b[0m resultado \u001b[38;5;241m=\u001b[39m \u001b[43mvalor\u001b[49m\u001b[43m \u001b[49m\u001b[38;5;241;43m+\u001b[39;49m\u001b[38;5;241;43m100\u001b[39;49m\n\u001b[0;32m      3\u001b[0m resultado\n",
      "\u001b[1;31mTypeError\u001b[0m: can only concatenate str (not \"int\") to str"
     ]
    }
   ],
   "source": [
    "#Sumamos a la cadena un valor numérico, sale error\n",
    "resultado = valor +100\n",
    "resultado"
   ]
  },
  {
   "cell_type": "markdown",
   "metadata": {},
   "source": [
    "Para hacer un cambio de tipo (*casting*) podemos hacer uso de la función int() o float()\n"
   ]
  },
  {
   "cell_type": "code",
   "execution_count": 1,
   "metadata": {},
   "outputs": [],
   "source": [
    "valor= input('introduce un número entero:')\n",
    "print(type(valor))"
   ]
  },
  {
   "cell_type": "code",
   "execution_count": null,
   "metadata": {},
   "outputs": [],
   "source": [
    "valor= input('introduce un número entero:')\n",
    "print(type(valor))"
   ]
  },
  {
   "cell_type": "code",
   "execution_count": null,
   "metadata": {},
   "outputs": [],
   "source": [
    "valor = int(valor)\n",
    "print(type(valor))"
   ]
  },
  {
   "cell_type": "code",
   "execution_count": null,
   "metadata": {},
   "outputs": [],
   "source": [
    "#cambio a tipo decimal o flotante\n",
    "\n",
    "decimal = input('Introduce un número decimal:')\n",
    "decimal = float(decimal)\n",
    "print(type(decimal))"
   ]
  },
  {
   "cell_type": "code",
   "execution_count": 7,
   "metadata": {},
   "outputs": [
    {
     "name": "stdout",
     "output_type": "stream",
     "text": [
      "<class 'int'>\n",
      "13\n"
     ]
    }
   ],
   "source": [
    "# Código simplificado (esta es la más correcta de hacer) Para string o cadena es str, int para entero y float para decimal\n",
    "entradaNumerica = int(input('Introduzca entrada numérica:'))\n",
    "print(type(entradaNumerica))\n",
    "print(entradaNumerica)\n"
   ]
  },
  {
   "cell_type": "markdown",
   "metadata": {},
   "source": [
    "# Ejercicios:"
   ]
  },
  {
   "cell_type": "markdown",
   "metadata": {},
   "source": [
    "1. Escribir un programa que pregunte el nombre del usuario en la consola y un número entero e imprima por pantalla en líneas distintas el nombre del usuario tantas veces como el número introducido."
   ]
  },
  {
   "cell_type": "code",
   "execution_count": 5,
   "metadata": {},
   "outputs": [
    {
     "name": "stdout",
     "output_type": "stream",
     "text": [
      "Dame el nombre de usuario y un número entero\n",
      "Domingo\n",
      "Domingo\n",
      "Domingo\n",
      "\n"
     ]
    }
   ],
   "source": [
    "print('Dame el nombre de usuario y un número entero')\n",
    "usuario = str(input())\n",
    "numeroEntero = int(input())\n",
    "\n",
    "print((usuario + '\\n') * numeroEntero)"
   ]
  },
  {
   "cell_type": "code",
   "execution_count": 7,
   "metadata": {},
   "outputs": [
    {
     "name": "stdout",
     "output_type": "stream",
     "text": [
      "Dom\n",
      "Dom\n",
      "Dom\n",
      "\n"
     ]
    }
   ],
   "source": [
    "#profe\n",
    "#Entrada de datos\n",
    "nombreUsuario =input('Escriba su nombre, por favor')\n",
    "repeticiones = int(input('Escribe el número de veces que se repite'))\n",
    "\n",
    "#Salida de datos\n",
    "print((nombreUsuario + '\\n') * repeticiones) # Con '/n' te salta de línea"
   ]
  },
  {
   "cell_type": "markdown",
   "metadata": {},
   "source": [
    "Si tienes que leer la dirección del archivo, para no tener en cuenta el \\ y te lo lea literal, usas el raw -> r'\\n'"
   ]
  },
  {
   "cell_type": "markdown",
   "metadata": {},
   "source": [
    "2. Escribir un programa que pregunte el nombre completo del usuario en la consola y después muestre por pantalla el nombre completo del usuario tres veces, una con todas la letras minúsculas, otra con todas las letras mayúsculas y otra solo con la primera letra del nombre y de los apellidos en mayúscula. El usuario puede introducir su nombre combinanod mayúsculas y minúsculas como quiera."
   ]
  },
  {
   "cell_type": "code",
   "execution_count": 11,
   "metadata": {},
   "outputs": [
    {
     "name": "stdout",
     "output_type": "stream",
     "text": [
      "domingo marchan\n",
      " DOMINGO MARCHAN\n",
      " Domingo Marchan\n",
      "\n"
     ]
    }
   ],
   "source": [
    "# lower, upper, capitalize, title\n",
    "#Entrada de datos\n",
    "nombreUsuario = str(input('Escriba su nombre y apellidas para que lo repita de tres formas distintas'))\n",
    "\n",
    "# Salida de datos\n",
    "print(nombreUsuario.lower() + '\\n' , nombreUsuario.upper() + '\\n' , nombreUsuario.title() + '\\n' )\n",
    "\n",
    "# O bien\n",
    "#print(nombreUsuario.lower()) y el resto debajo"
   ]
  },
  {
   "cell_type": "markdown",
   "metadata": {},
   "source": [
    "3. Escribe un programa que pregunte el nombre del usuario en la consola y después de que el usuario lo introduzca muestre por pantalla 'NOMBRE' tiene 'n' letras, donde 'NOMBRE' es el nombre del usuario en mayúsculas y 'n' es el número de letras que tienen el nombre"
   ]
  },
  {
   "cell_type": "code",
   "execution_count": 1,
   "metadata": {},
   "outputs": [],
   "source": [
    "#Entrada de datos\n",
    "nombreUsuario = str(input('Introduce tu nombre:')) # Profe: nombreUsuario = input('Introduzca su nombre, por favor')\n",
    "\n",
    "# Salida de datos\n",
    "print(nombreUsuario.upper() + ' tiene ' + str(len(nombreUsuario)) + ' letras')\n",
    "\n",
    "#Profe salidas\n",
    "\n",
    "print('{}, tiene {} letras.'.format (nombreUsuario.upper(), str(len(nombreUsuario))))"
   ]
  },
  {
   "cell_type": "markdown",
   "metadata": {},
   "source": [
    "4. Escribir un programa que pida al usuario que introduzca una frase en la consola y muestre por pantalla la frase invertida."
   ]
  },
  {
   "cell_type": "code",
   "execution_count": 1,
   "metadata": {},
   "outputs": [],
   "source": [
    "#Entrada de datos\n",
    "frase = input('Introduce una frase, que te la devuelvo invertida')\n",
    "\n",
    "frase = list\n",
    "\n",
    "# Salida de datos\n",
    "\n",
    "print(reversed(frase))"
   ]
  },
  {
   "cell_type": "markdown",
   "metadata": {},
   "source": [
    "2. Escribir un programa que pida al usuario que introduzca una frase en la consola y una vocal, y después muestre por pantalla la misma frase, pero con la vocal introducida en mayúscla.\n",
    "Función .replace(datoACambiar, datoSustituto)\n",
    "\n"
   ]
  },
  {
   "cell_type": "code",
   "execution_count": null,
   "metadata": {},
   "outputs": [],
   "source": []
  },
  {
   "cell_type": "markdown",
   "metadata": {},
   "source": [
    "3. Escribir un programa que pida al usuario que introduzca una frase en la consola y una vocal, y despues muestres por pantalla la misma frase pero con la vocal introducida en mayúscula. Método .replace(datoASustituir, datoSustituible)"
   ]
  },
  {
   "cell_type": "code",
   "execution_count": 1,
   "metadata": {},
   "outputs": [],
   "source": [
    "\n",
    "\n",
    "\n"
   ]
  }
 ],
 "metadata": {
  "kernelspec": {
   "display_name": "Python 3",
   "language": "python",
   "name": "python3"
  },
  "language_info": {
   "codemirror_mode": {
    "name": "ipython",
    "version": 3
   },
   "file_extension": ".py",
   "mimetype": "text/x-python",
   "name": "python",
   "nbconvert_exporter": "python",
   "pygments_lexer": "ipython3",
   "version": "3.12.3"
  }
 },
 "nbformat": 4,
 "nbformat_minor": 2
}
