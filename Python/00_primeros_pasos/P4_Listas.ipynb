{
 "cells": [
  {
   "cell_type": "markdown",
   "metadata": {},
   "source": [
    "# Listas"
   ]
  },
  {
   "cell_type": "markdown",
   "metadata": {},
   "source": [
    "Las listas son colecciones de elementos dispuestos en un orden particular.\n",
    "En Python se usan corchetes [] para indicar que esa colección es una lista."
   ]
  },
  {
   "cell_type": "code",
   "execution_count": 1,
   "metadata": {},
   "outputs": [
    {
     "name": "stdout",
     "output_type": "stream",
     "text": [
      "[1, 2, 3, 4]\n",
      "[4, 'Una cadena', -15, 3.14, True]\n"
     ]
    }
   ],
   "source": [
    "# Ejemplos de listas\n",
    "numeros= [1,2,3,4]\n",
    "datos= [4, 'Una cadena', -15, 3.14, True]\n",
    "print(numeros)\n",
    "print(datos)\n",
    "#No tienen por qué ser del mismo tipo los datos"
   ]
  },
  {
   "cell_type": "code",
   "execution_count": 32,
   "metadata": {},
   "outputs": [
    {
     "name": "stdout",
     "output_type": "stream",
     "text": [
      "['trek', 'cannonblade', 'redline']\n"
     ]
    }
   ],
   "source": [
    "# Ejemplo. Lista con distintos tipos de bicicletas\n",
    "bicycles = ['trek', 'cannonblade', 'redline']\n",
    "print(bicycles)"
   ]
  },
  {
   "cell_type": "markdown",
   "metadata": {},
   "source": [
    "Acceso a los elementos de una lista, mediante su indice o posición. La primera posición siempre tiene el índice '0'"
   ]
  },
  {
   "cell_type": "code",
   "execution_count": 33,
   "metadata": {},
   "outputs": [
    {
     "name": "stdout",
     "output_type": "stream",
     "text": [
      "trek\n"
     ]
    }
   ],
   "source": [
    "print(bicycles[0])"
   ]
  },
  {
   "cell_type": "markdown",
   "metadata": {},
   "source": [
    "para devolver el úmtimo elemento de la lista, podemos usar el índice negativo"
   ]
  },
  {
   "cell_type": "code",
   "execution_count": 34,
   "metadata": {},
   "outputs": [
    {
     "name": "stdout",
     "output_type": "stream",
     "text": [
      "Redline\n"
     ]
    }
   ],
   "source": [
    "print(bicycles[-1].capitalize())"
   ]
  },
  {
   "cell_type": "code",
   "execution_count": 35,
   "metadata": {},
   "outputs": [
    {
     "name": "stdout",
     "output_type": "stream",
     "text": [
      "Mi primera bicicleta fue un model Trek\n"
     ]
    }
   ],
   "source": [
    "# Más combinaciones\n",
    "message = f'Mi primera bicicleta fue un model {bicycles[0].capitalize()}'\n",
    "print(message) "
   ]
  },
  {
   "cell_type": "markdown",
   "metadata": {},
   "source": [
    "### Modificando Listas"
   ]
  },
  {
   "cell_type": "markdown",
   "metadata": {},
   "source": [
    "Para modificar elementos de una lista (las listas son mutables), usamos el nombre de la lista seguido del índice del elemento a modificar y proporcionalms el nuevo valor."
   ]
  },
  {
   "cell_type": "code",
   "execution_count": 36,
   "metadata": {},
   "outputs": [
    {
     "name": "stdout",
     "output_type": "stream",
     "text": [
      "['Indian', 'Honda', 'Yamaha', 'Suzuki']\n"
     ]
    }
   ],
   "source": [
    "# Ejemplo\n",
    "motorcycles = ['Indian', 'Honda', 'Yamaha', 'Suzuki']\n",
    "print(motorcycles)"
   ]
  },
  {
   "cell_type": "code",
   "execution_count": 37,
   "metadata": {},
   "outputs": [
    {
     "name": "stdout",
     "output_type": "stream",
     "text": [
      "['Indian', 'Honda', 'Yamaha', 'Harley Davidson']\n"
     ]
    }
   ],
   "source": [
    "motorcycles[3] = 'Harley Davidson'\n",
    "print(motorcycles)"
   ]
  },
  {
   "cell_type": "markdown",
   "metadata": {},
   "source": [
    "Tambien podemos añadir elementos al final de la lista (proceso de adjuntar), usamos el método append()"
   ]
  },
  {
   "cell_type": "code",
   "execution_count": 38,
   "metadata": {},
   "outputs": [
    {
     "name": "stdout",
     "output_type": "stream",
     "text": [
      "['Indian', 'Honda', 'Yamaha', 'Harley Davidson', 'Ducatti']\n"
     ]
    }
   ],
   "source": [
    "motorcycles.append('Ducatti')\n",
    "print(motorcycles)"
   ]
  },
  {
   "cell_type": "markdown",
   "metadata": {},
   "source": [
    "Podemos añadir elementos al principio de la lista o en cualquier posición (insertar), usamos el método insert() especificando su índice y valor"
   ]
  },
  {
   "cell_type": "code",
   "execution_count": 39,
   "metadata": {},
   "outputs": [
    {
     "name": "stdout",
     "output_type": "stream",
     "text": [
      "['Triumph', 'Indian', 'Honda', 'Yamaha', 'Harley Davidson', 'Ducatti']\n"
     ]
    }
   ],
   "source": [
    "motorcycles.insert(0, 'Triumph')\n",
    "print(motorcycles)"
   ]
  },
  {
   "cell_type": "markdown",
   "metadata": {},
   "source": [
    "### Eliminando elementos de una lista"
   ]
  },
  {
   "cell_type": "markdown",
   "metadata": {},
   "source": [
    "Caso 1. Conocemos su índice y usando la sentencia *del*"
   ]
  },
  {
   "cell_type": "code",
   "execution_count": 40,
   "metadata": {},
   "outputs": [
    {
     "name": "stdout",
     "output_type": "stream",
     "text": [
      "['Indian', 'Honda', 'Yamaha', 'Harley Davidson', 'Ducatti']\n"
     ]
    }
   ],
   "source": [
    "del motorcycles[0]\n",
    "print(motorcycles)"
   ]
  },
  {
   "cell_type": "markdown",
   "metadata": {},
   "source": [
    "Caso 2. Con el método pop(), eliminamos el último elemento de la lista y además podemos hacer uso de ese valor"
   ]
  },
  {
   "cell_type": "code",
   "execution_count": 41,
   "metadata": {},
   "outputs": [
    {
     "name": "stdout",
     "output_type": "stream",
     "text": [
      "['Indian', 'Honda', 'Yamaha', 'Harley Davidson', 'Ducatti']\n"
     ]
    }
   ],
   "source": [
    "print(motorcycles)"
   ]
  },
  {
   "cell_type": "code",
   "execution_count": 42,
   "metadata": {},
   "outputs": [
    {
     "name": "stdout",
     "output_type": "stream",
     "text": [
      "['Indian', 'Honda', 'Yamaha', 'Harley Davidson']\n",
      "Ducatti\n"
     ]
    }
   ],
   "source": [
    "motorcyclePopped = motorcycles.pop()\n",
    "print(motorcycles)\n",
    "print(motorcyclePopped)"
   ]
  },
  {
   "cell_type": "code",
   "execution_count": 43,
   "metadata": {},
   "outputs": [
    {
     "name": "stdout",
     "output_type": "stream",
     "text": [
      "['Indian', 'Honda', 'Harley Davidson']\n",
      "Yamaha\n"
     ]
    }
   ],
   "source": [
    "motorcyclePopped2 = motorcycles.pop(2)\n",
    "print(motorcycles)\n",
    "print(motorcyclePopped2)"
   ]
  },
  {
   "cell_type": "markdown",
   "metadata": {},
   "source": [
    "Caso 3. Conociendo el valor de la posición, podemos usar el método remove(). Al igual que con el método .pop(), podemos hacer uso de su valor"
   ]
  },
  {
   "cell_type": "code",
   "execution_count": 44,
   "metadata": {},
   "outputs": [
    {
     "name": "stdout",
     "output_type": "stream",
     "text": [
      "['Indian', 'Honda']\n",
      "Una Harley Davidson es demasiado cara para mi\n"
     ]
    }
   ],
   "source": [
    "tooExpensive = 'Harley Davidson' # Recordar que tienes que poner el valor tal cual, con mayúsculas incluidas\n",
    "motorcycles.remove(tooExpensive)\n",
    "print(motorcycles)\n",
    "print(f'Una {tooExpensive} es demasiado cara para mi')"
   ]
  },
  {
   "cell_type": "markdown",
   "metadata": {},
   "source": [
    "### Ordenando listas"
   ]
  },
  {
   "cell_type": "markdown",
   "metadata": {},
   "source": [
    "Podemos ordenar una lista de forma permanente con el método sort().\n",
    "Hay que tener en cuenta las mayúsculas!!!"
   ]
  },
  {
   "cell_type": "code",
   "execution_count": 45,
   "metadata": {},
   "outputs": [
    {
     "name": "stdout",
     "output_type": "stream",
     "text": [
      "['Renault', 'bmw', 'seat', 'subaru']\n"
     ]
    }
   ],
   "source": [
    "coches1 = ['seat', 'bmw', 'subaru', 'Renault'] #Pondrá primero la mayúscula\n",
    "coches1.sort()\n",
    "print(coches1)"
   ]
  },
  {
   "cell_type": "code",
   "execution_count": 46,
   "metadata": {},
   "outputs": [
    {
     "name": "stdout",
     "output_type": "stream",
     "text": [
      "['bmw', 'renault', 'seat', 'subaru']\n"
     ]
    }
   ],
   "source": [
    "coches1 = ['seat', 'bmw', 'subaru', 'renault'] # Aquí hará orden alfabético\n",
    "coches1.sort()\n",
    "print(coches1)"
   ]
  },
  {
   "cell_type": "markdown",
   "metadata": {},
   "source": [
    "Orden alfabético inverso añadiendo el argumento reverse=True a sort()"
   ]
  },
  {
   "cell_type": "code",
   "execution_count": 47,
   "metadata": {},
   "outputs": [
    {
     "name": "stdout",
     "output_type": "stream",
     "text": [
      "['subaru', 'seat', 'renault', 'bmw']\n"
     ]
    }
   ],
   "source": [
    "coches1.sort(reverse=True)\n",
    "print(coches1)"
   ]
  },
  {
   "cell_type": "markdown",
   "metadata": {},
   "source": [
    "Ordenar una lista temporalemente con la función sorted()"
   ]
  },
  {
   "cell_type": "code",
   "execution_count": 48,
   "metadata": {},
   "outputs": [
    {
     "name": "stdout",
     "output_type": "stream",
     "text": [
      "['bmw', 'honda', 'royal enfielf', 'triumph', 'yamaha']\n",
      "['bmw', 'royal enfielf', 'triumph', 'yamaha', 'honda']\n"
     ]
    }
   ],
   "source": [
    "motocicletas = ['bmw', 'royal enfielf', 'triumph', 'yamaha', 'honda']\n",
    "print(sorted(motocicletas))\n",
    "print(motocicletas)"
   ]
  },
  {
   "cell_type": "code",
   "execution_count": 49,
   "metadata": {},
   "outputs": [
    {
     "name": "stdout",
     "output_type": "stream",
     "text": [
      "['yamaha', 'triumph', 'royal enfielf', 'honda', 'bmw']\n"
     ]
    }
   ],
   "source": [
    "# Orden temporal inverso\n",
    "print(sorted(motocicletas, reverse=True))"
   ]
  },
  {
   "cell_type": "markdown",
   "metadata": {},
   "source": [
    "Otros métodos:"
   ]
  },
  {
   "cell_type": "code",
   "execution_count": 50,
   "metadata": {},
   "outputs": [
    {
     "name": "stdout",
     "output_type": "stream",
     "text": [
      "['bmw', 'royal enfielf', 'triumph', 'yamaha', 'honda']\n",
      "['honda', 'yamaha', 'triumph', 'royal enfielf', 'bmw']\n"
     ]
    }
   ],
   "source": [
    "# .reverse() invierte el orden de la lista\n",
    "print(motocicletas)\n",
    "motocicletas.reverse()\n",
    "print(motocicletas)"
   ]
  },
  {
   "cell_type": "code",
   "execution_count": 51,
   "metadata": {},
   "outputs": [
    {
     "name": "stdout",
     "output_type": "stream",
     "text": [
      "5\n"
     ]
    }
   ],
   "source": [
    "# len(lista) nos muestra la longitud o cantidad de elementos que tiene print(len(motocicletas))\n",
    "print(len(motocicletas))"
   ]
  },
  {
   "cell_type": "markdown",
   "metadata": {},
   "source": [
    "## Listas dentro de listas (listas anidadas)"
   ]
  },
  {
   "cell_type": "markdown",
   "metadata": {},
   "source": [
    "Podemos manipular este tipo de estructuras usando múltiples índices, como si nos refiriéramos a las filas y columnas de una tabla."
   ]
  },
  {
   "cell_type": "code",
   "execution_count": 52,
   "metadata": {},
   "outputs": [],
   "source": [
    "# Ejemplo\n",
    "a = [1,2,3]\n",
    "b = [4,5,6]\n",
    "c = [7,8,9]\n",
    "r = [a,b,c] "
   ]
  },
  {
   "cell_type": "code",
   "execution_count": 53,
   "metadata": {},
   "outputs": [
    {
     "name": "stdout",
     "output_type": "stream",
     "text": [
      "[[1, 2, 3], [4, 5, 6], [7, 8, 9]]\n"
     ]
    }
   ],
   "source": [
    "print(r)"
   ]
  },
  {
   "cell_type": "code",
   "execution_count": 54,
   "metadata": {},
   "outputs": [
    {
     "data": {
      "text/plain": [
       "[1, 2, 3]"
      ]
     },
     "execution_count": 54,
     "metadata": {},
     "output_type": "execute_result"
    }
   ],
   "source": [
    "# Accedemos a la primera sublista\n",
    "r[0]"
   ]
  },
  {
   "cell_type": "code",
   "execution_count": 55,
   "metadata": {},
   "outputs": [
    {
     "data": {
      "text/plain": [
       "[7, 8, 9]"
      ]
     },
     "execution_count": 55,
     "metadata": {},
     "output_type": "execute_result"
    }
   ],
   "source": [
    "# Accedemos a la última sublista (con índice negativo con -1 o bien pones un 2 en este caso)\n",
    "r[-1]"
   ]
  },
  {
   "cell_type": "code",
   "execution_count": 56,
   "metadata": {},
   "outputs": [
    {
     "data": {
      "text/plain": [
       "1"
      ]
     },
     "execution_count": 56,
     "metadata": {},
     "output_type": "execute_result"
    }
   ],
   "source": [
    "# Accedemos al primer ítem de la primera sublista, siempre con doble índice\n",
    "r[0][0]"
   ]
  },
  {
   "cell_type": "code",
   "execution_count": 57,
   "metadata": {},
   "outputs": [
    {
     "data": {
      "text/plain": [
       "9"
      ]
     },
     "execution_count": 57,
     "metadata": {},
     "output_type": "execute_result"
    }
   ],
   "source": [
    "# Accedemos al último ítem de la última lista usando índices negativos\n",
    "r[-1][-1]"
   ]
  },
  {
   "cell_type": "markdown",
   "metadata": {},
   "source": [
    "# Trabajando con listas"
   ]
  },
  {
   "cell_type": "markdown",
   "metadata": {},
   "source": [
    "## Bucle For para recorrer listas"
   ]
  },
  {
   "cell_type": "code",
   "execution_count": 62,
   "metadata": {},
   "outputs": [
    {
     "name": "stdout",
     "output_type": "stream",
     "text": [
      "gandalf el mago blanco\n",
      "merlin\n",
      "raistlin\n",
      "fistandantilus\n",
      "Fin del programa\n"
     ]
    }
   ],
   "source": [
    "magos = ['gandalf el mago blanco', 'merlin', 'raistlin', 'fistandantilus']\n",
    "for mago in magos:\n",
    "    print(mago) #cuando le das al enter después de los dos puntos ha de haber 4 posiciones de tabulaciones, si no no funciona. mago es una variable temporal y normalmente le damos el mismo nombre, pero en singular.\n",
    "\n",
    "\n",
    "print('Fin del programa') # si pones mago, te da el último"
   ]
  },
  {
   "cell_type": "code",
   "execution_count": 59,
   "metadata": {},
   "outputs": [
    {
     "name": "stdout",
     "output_type": "stream",
     "text": [
      "['gandalf', 'merlin', 'raistlin', 'fistandantilus']\n"
     ]
    }
   ],
   "source": [
    "print(magos)"
   ]
  },
  {
   "cell_type": "code",
   "execution_count": 63,
   "metadata": {},
   "outputs": [
    {
     "name": "stdout",
     "output_type": "stream",
     "text": [
      "Gandalf El Mago Blanco, qué gran truco de magia\n",
      "Merlin, qué gran truco de magia\n",
      "Raistlin, qué gran truco de magia\n",
      "Fistandantilus, qué gran truco de magia\n"
     ]
    }
   ],
   "source": [
    "# Salida más elaborada\n",
    "for mago in magos: \n",
    "    print(f'{mago.title()}, qué gran truco de magia')\n"
   ]
  },
  {
   "cell_type": "markdown",
   "metadata": {},
   "source": [
    "### Trabajando con Listas numéricas"
   ]
  },
  {
   "cell_type": "markdown",
   "metadata": {},
   "source": [
    "Uso de la función range(inicio, final-1).\n",
    "Esta función genera una serie de números entre dos valores, el segundo siempre será el valor-1."
   ]
  },
  {
   "cell_type": "code",
   "execution_count": 64,
   "metadata": {},
   "outputs": [
    {
     "name": "stdout",
     "output_type": "stream",
     "text": [
      "1\n",
      "2\n",
      "3\n",
      "4\n",
      "5\n",
      "6\n",
      "7\n",
      "8\n",
      "9\n",
      "10\n"
     ]
    }
   ],
   "source": [
    "# Ejemplo\n",
    "for value in range(1,11):\n",
    "    print(value)\n"
   ]
  },
  {
   "cell_type": "code",
   "execution_count": 65,
   "metadata": {},
   "outputs": [
    {
     "name": "stdout",
     "output_type": "stream",
     "text": [
      "1,2,3,4,5,6,7,8,9,10,"
     ]
    }
   ],
   "source": [
    " # Otra manera\n",
    "for value in range(1,11):\n",
    "    print(value, end=\",\")"
   ]
  },
  {
   "cell_type": "markdown",
   "metadata": {},
   "source": [
    "Generamos una lista de números con la función range() y la función list()"
   ]
  },
  {
   "cell_type": "code",
   "execution_count": 66,
   "metadata": {},
   "outputs": [
    {
     "name": "stdout",
     "output_type": "stream",
     "text": [
      "[1, 2, 3, 4, 5, 6, 7, 8, 9, 10]\n"
     ]
    }
   ],
   "source": [
    "valores = list(range(1,11))\n",
    "print(valores)"
   ]
  },
  {
   "cell_type": "markdown",
   "metadata": {},
   "source": [
    "Si a la función range() le añadimos un tercer elemento, éste es el paso del valor"
   ]
  },
  {
   "cell_type": "code",
   "execution_count": 69,
   "metadata": {},
   "outputs": [
    {
     "name": "stdout",
     "output_type": "stream",
     "text": [
      "[2, 4, 6, 8, 10]\n"
     ]
    }
   ],
   "source": [
    "# Imprimimos los números pares entre 0 y 10\n",
    "pares = list(range(2,11,2)) # la función range, el primer valor lo incluye, el último no\n",
    "print(pares)"
   ]
  },
  {
   "cell_type": "code",
   "execution_count": 70,
   "metadata": {},
   "outputs": [
    {
     "name": "stdout",
     "output_type": "stream",
     "text": [
      "[1, 4, 9, 16, 25, 36, 49, 64, 81, 100]\n"
     ]
    }
   ],
   "source": [
    "# Otro ejemplo. Cálculo de los primeros diez cuadrados.\n",
    "cuadrados = [] # Primero declaramos una lista vacía\n",
    "for valores in range(1,11):\n",
    "    cuadrado = valores ** 2\n",
    "    cuadrados.append(cuadrado) # append para añadir el ultimo valor a la lista\n",
    "\n",
    "print(cuadrados)\n"
   ]
  },
  {
   "cell_type": "markdown",
   "metadata": {},
   "source": [
    "Funciones estadísticas: min(), max(), sum()"
   ]
  },
  {
   "cell_type": "code",
   "execution_count": 71,
   "metadata": {},
   "outputs": [
    {
     "name": "stdout",
     "output_type": "stream",
     "text": [
      "1\n",
      "100\n",
      "385\n"
     ]
    }
   ],
   "source": [
    "print(min(cuadrados))\n",
    "print(max(cuadrados))\n",
    "print(sum(cuadrados))"
   ]
  },
  {
   "cell_type": "markdown",
   "metadata": {},
   "source": [
    "Listas por compresión (OJO!!!, cuidado que hay que saberlo hacer bien)"
   ]
  },
  {
   "cell_type": "code",
   "execution_count": 74,
   "metadata": {},
   "outputs": [
    {
     "name": "stdout",
     "output_type": "stream",
     "text": [
      "[1, 4, 9, 16, 25, 36, 49, 64, 81, 100]\n"
     ]
    }
   ],
   "source": [
    "# nombreLista = [expresión bucleFor]\n",
    "nuevosCuadrados = [valor ** 2 for valor in range(1,11)]\n",
    "print(nuevosCuadrados)"
   ]
  },
  {
   "cell_type": "markdown",
   "metadata": {},
   "source": [
    "<h3>A partir de aqui apuntes de Fran</h3>\n",
    "\n",
    "Continuaremos con el temario de listas encarados a strings"
   ]
  },
  {
   "cell_type": "code",
   "execution_count": 3,
   "metadata": {},
   "outputs": [
    {
     "name": "stdout",
     "output_type": "stream",
     "text": [
      "['Carlos', 'Baity', 'Joan']\n"
     ]
    }
   ],
   "source": [
    "jugadores = ['Carlos', 'Baity', 'Joan', 'Juanjo', 'Florentino', 'Sacopaco', 'Palomocojo']\n",
    "\n",
    "print(jugadores[0:3])"
   ]
  },
  {
   "cell_type": "markdown",
   "metadata": {},
   "source": [
    "Si omitimos el primer índice, siempre va a empezar en la posicion 0"
   ]
  },
  {
   "cell_type": "code",
   "execution_count": 4,
   "metadata": {},
   "outputs": [
    {
     "name": "stdout",
     "output_type": "stream",
     "text": [
      "['Carlos', 'Baity', 'Joan', 'Juanjo']\n"
     ]
    }
   ],
   "source": [
    "print(jugadores[:4])"
   ]
  },
  {
   "cell_type": "markdown",
   "metadata": {},
   "source": [
    "Si omitimos el segundo indice, acabara en el final de la lista"
   ]
  },
  {
   "cell_type": "code",
   "execution_count": 5,
   "metadata": {},
   "outputs": [
    {
     "name": "stdout",
     "output_type": "stream",
     "text": [
      "['Joan', 'Juanjo', 'Florentino', 'Sacopaco', 'Palomocojo']\n"
     ]
    }
   ],
   "source": [
    "print(jugadores[2:])"
   ]
  },
  {
   "cell_type": "markdown",
   "metadata": {},
   "source": [
    "Tambien podemos usar índices negativos"
   ]
  },
  {
   "cell_type": "code",
   "execution_count": 8,
   "metadata": {},
   "outputs": [
    {
     "name": "stdout",
     "output_type": "stream",
     "text": [
      "['Sacopaco', 'Palomocojo']\n"
     ]
    }
   ],
   "source": [
    "print(jugadores[-2:])"
   ]
  },
  {
   "cell_type": "markdown",
   "metadata": {},
   "source": [
    "Si pasamos un tercer valor, indicamos el valor de salto entre el mínimo y el máximo, ej: posicion 0 a posicion 5 saltando de 2 en 2"
   ]
  },
  {
   "cell_type": "code",
   "execution_count": 15,
   "metadata": {},
   "outputs": [
    {
     "name": "stdout",
     "output_type": "stream",
     "text": [
      "['Carlos', 'Joan', 'Florentino']\n"
     ]
    }
   ],
   "source": [
    "print(jugadores[0:5:2])"
   ]
  },
  {
   "cell_type": "markdown",
   "metadata": {},
   "source": [
    "<h4>Obtener el valor de una lista</h4>\n",
    "Podemos obtener el valor y el indice de una lista con la funcion enumerate(), no solo su valor"
   ]
  },
  {
   "cell_type": "code",
   "execution_count": 19,
   "metadata": {},
   "outputs": [
    {
     "name": "stdout",
     "output_type": "stream",
     "text": [
      "Alumno número 1: Daniel\n",
      "Alumno número 2: Domingo\n",
      "Alumno número 3: Fran\n",
      "Alumno número 4: Elizabeth\n",
      "Alumno número 5: Maria\n",
      "\n",
      "Imprimir el objeto sin obtener el indice\n",
      "(0, 'Daniel')\n",
      "(1, 'Domingo')\n",
      "(2, 'Fran')\n",
      "(3, 'Elizabeth')\n",
      "(4, 'Maria')\n"
     ]
    }
   ],
   "source": [
    "alumnos = ['Daniel', 'Domingo', 'Fran', 'Elizabeth', 'Maria']\n",
    "\n",
    "for i, alumno in enumerate(alumnos):\n",
    "    print(f'Alumno número {i+1}: {alumno}')\n",
    "\n",
    "print(\"\\nImprimir el objeto sin obtener el indice\")\n",
    "for i in enumerate(alumnos):\n",
    "    print(i)"
   ]
  }
 ],
 "metadata": {
  "kernelspec": {
   "display_name": "Python 3",
   "language": "python",
   "name": "python3"
  },
  "language_info": {
   "codemirror_mode": {
    "name": "ipython",
    "version": 3
   },
   "file_extension": ".py",
   "mimetype": "text/x-python",
   "name": "python",
   "nbconvert_exporter": "python",
   "pygments_lexer": "ipython3",
   "version": "3.12.3"
  }
 },
 "nbformat": 4,
 "nbformat_minor": 2
}
