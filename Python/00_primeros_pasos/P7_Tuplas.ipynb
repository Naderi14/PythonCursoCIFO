{
 "cells": [
  {
   "cell_type": "markdown",
   "metadata": {},
   "source": [
    "## Tuplas\n",
    "Las tuplas son una colección de elementos de cualquier tipo separados por comas. Funcionan igual que las listas, pero a diferencia de éstas, una vez definidas no se pueden modificar. (Son inmutables)\n",
    "La diferencia entre listas y tuplas ademas de que unas son modificables y otras no, las tuplas estan encerradas con () y las listas estan encerradas con []"
   ]
  },
  {
   "cell_type": "code",
   "execution_count": 6,
   "metadata": {},
   "outputs": [
    {
     "name": "stdout",
     "output_type": "stream",
     "text": [
      "('a', 'e', 'i', 'o', 'u')\n",
      "['a', 'e', 'i', 'o', 'u']\n"
     ]
    },
    {
     "ename": "TypeError",
     "evalue": "'tuple' object does not support item assignment",
     "output_type": "error",
     "traceback": [
      "\u001b[1;31m---------------------------------------------------------------------------\u001b[0m",
      "\u001b[1;31mTypeError\u001b[0m                                 Traceback (most recent call last)",
      "Cell \u001b[1;32mIn[6], line 6\u001b[0m\n\u001b[0;32m      3\u001b[0m \u001b[38;5;28mprint\u001b[39m(vocalesTuplas)\n\u001b[0;32m      4\u001b[0m \u001b[38;5;28mprint\u001b[39m(vocalesListas)\n\u001b[1;32m----> 6\u001b[0m \u001b[43mvocalesTuplas\u001b[49m\u001b[43m[\u001b[49m\u001b[38;5;241;43m1\u001b[39;49m\u001b[43m]\u001b[49m \u001b[38;5;241m=\u001b[39m \u001b[38;5;124m'\u001b[39m\u001b[38;5;124mb\u001b[39m\u001b[38;5;124m'\u001b[39m\n",
      "\u001b[1;31mTypeError\u001b[0m: 'tuple' object does not support item assignment"
     ]
    }
   ],
   "source": [
    "vocalesTuplas = 'a', 'e', 'i', 'o', 'u'\n",
    "vocalesListas = ['a', 'e', 'i', 'o', 'u']\n",
    "print(vocalesTuplas)\n",
    "print(vocalesListas)\n",
    "\n",
    "vocalesTuplas[1] = 'b'\n"
   ]
  },
  {
   "cell_type": "code",
   "execution_count": 8,
   "metadata": {},
   "outputs": [
    {
     "name": "stdout",
     "output_type": "stream",
     "text": [
      "()\n"
     ]
    }
   ],
   "source": [
    "# Podemos declarar una tupla vacia\n",
    "tuplaVacia = ()\n",
    "print(tuplaVacia)"
   ]
  },
  {
   "cell_type": "code",
   "execution_count": 11,
   "metadata": {},
   "outputs": [
    {
     "ename": "AttributeError",
     "evalue": "'tuple' object has no attribute 'append'",
     "output_type": "error",
     "traceback": [
      "\u001b[1;31m---------------------------------------------------------------------------\u001b[0m",
      "\u001b[1;31mAttributeError\u001b[0m                            Traceback (most recent call last)",
      "Cell \u001b[1;32mIn[11], line 2\u001b[0m\n\u001b[0;32m      1\u001b[0m \u001b[38;5;66;03m# Pero no podemos asignarle nuevos elementos con por ejemplo la funciona append() porque es una funcion de las listas mutables\u001b[39;00m\n\u001b[1;32m----> 2\u001b[0m \u001b[43mtuplaVacia\u001b[49m\u001b[38;5;241;43m.\u001b[39;49m\u001b[43mappend\u001b[49m(\u001b[38;5;124m'\u001b[39m\u001b[38;5;124ma\u001b[39m\u001b[38;5;124m'\u001b[39m)\n",
      "\u001b[1;31mAttributeError\u001b[0m: 'tuple' object has no attribute 'append'"
     ]
    }
   ],
   "source": [
    "# Pero no podemos asignarle nuevos elementos con por ejemplo la funciona append() porque es una funcion de las listas mutables\n",
    "tuplaVacia.append('a')"
   ]
  },
  {
   "cell_type": "code",
   "execution_count": 27,
   "metadata": {},
   "outputs": [
    {
     "name": "stdout",
     "output_type": "stream",
     "text": [
      "(7,)\n",
      "<class 'tuple'>\n"
     ]
    }
   ],
   "source": [
    "# Esto es una tupla con 1 solo elemento\n",
    "numero = 7,\n",
    "print(numero)\n",
    "print(type(numero))"
   ]
  },
  {
   "cell_type": "code",
   "execution_count": 53,
   "metadata": {},
   "outputs": [
    {
     "data": {
      "text/plain": [
       "9"
      ]
     },
     "execution_count": 53,
     "metadata": {},
     "output_type": "execute_result"
    }
   ],
   "source": [
    "# Tupla anidada\n",
    "tuplaAnidada = (((1,2),(2,6)),((3,8),(4,7)))\n",
    "tuplaAnidadaLegible = (\n",
    "    (\n",
    "        (1,2),\n",
    "        (2,6),\n",
    "        (0,1,6,9)\n",
    "    ),\n",
    "    (\n",
    "        (3,8),\n",
    "        (4.7)\n",
    "    )\n",
    ")\n",
    "\n",
    "tuplaAnidadaLegible[0][2][3]\n",
    "\n",
    "\n"
   ]
  },
  {
   "cell_type": "code",
   "execution_count": 26,
   "metadata": {},
   "outputs": [
    {
     "name": "stdout",
     "output_type": "stream",
     "text": [
      "('a', 'b', 'c', 'd', 'e', 'f', 'g', 'h', 'i', 'j', 'k', 'l', 'm', 'n', 'ñ', 'o', 'p', 'q', 'r', 's', 't', 'u', 'v', 'w', 'x', 'y', 'z')\n",
      "27  letras\n",
      "27\n",
      "<class 'tuple'>\n"
     ]
    }
   ],
   "source": [
    "# Funcion tuple()\n",
    "abecedario = tuple('abcdefghijklmnñopqrstuvwxyz')\n",
    "print(abecedario)\n",
    "print(abecedario.__len__(),\" letras\")\n",
    "print(len(abecedario)) # Esto es lo mismo que abecedario.__len__()\n",
    "print(type(abecedario))"
   ]
  },
  {
   "cell_type": "code",
   "execution_count": 33,
   "metadata": {},
   "outputs": [
    {
     "name": "stdout",
     "output_type": "stream",
     "text": [
      "blanco\n",
      "amarillo\n",
      "azul\n",
      "naranja\n",
      "rojo\n"
     ]
    }
   ],
   "source": [
    "colores = 'blanco','amarillo','azul','naranja','rojo'\n",
    "\n",
    "for color in colores:\n",
    "    print(color)"
   ]
  },
  {
   "cell_type": "code",
   "execution_count": 32,
   "metadata": {},
   "outputs": [
    {
     "name": "stdout",
     "output_type": "stream",
     "text": [
      "cocacola\n",
      "pepsi\n",
      "fanta\n"
     ]
    }
   ],
   "source": [
    "bebidas = 'cocacola', 'pepsi', 'fanta'\n",
    "a, b, c = bebidas\n",
    "\n",
    "print(a)\n",
    "print(b)\n",
    "print(c)"
   ]
  },
  {
   "cell_type": "code",
   "execution_count": 34,
   "metadata": {},
   "outputs": [
    {
     "name": "stdout",
     "output_type": "stream",
     "text": [
      "Viernes\n"
     ]
    }
   ],
   "source": [
    "# Ejemplo de uso de tuplas\n",
    "diasSemana = 'Lunes','Martes','Miercoles','Jueves','Viernes','Sábado','Domingo'\n",
    "seleccion = int(input('Introduce el día de la semana'))\n",
    "print(diasSemana[seleccion-1])"
   ]
  },
  {
   "cell_type": "code",
   "execution_count": 41,
   "metadata": {},
   "outputs": [
    {
     "name": "stdout",
     "output_type": "stream",
     "text": [
      "['a', 'b', 'c', 'd', 'e', 'f', 'g', 'h', 'i', 'j', 'k', 'l', 'm', 'n', 'ñ', 'o', 'p', 'q', 'r', 's', 't', 'u', 'v', 'w', 'x', 'y', 'z']\n",
      "(0, 'a')\n",
      "(1, 'b')\n",
      "(2, 'c')\n",
      "(3, 'd')\n",
      "(4, 'e')\n",
      "(5, 'f')\n",
      "(6, 'g')\n",
      "(7, 'h')\n",
      "(8, 'i')\n",
      "(9, 'j')\n",
      "(10, 'k')\n",
      "(11, 'l')\n",
      "(12, 'm')\n",
      "(13, 'n')\n",
      "(14, 'ñ')\n",
      "(15, 'o')\n",
      "(16, 'p')\n",
      "(17, 'q')\n",
      "(18, 'r')\n",
      "(19, 's')\n",
      "(20, 't')\n",
      "(21, 'u')\n",
      "(22, 'v')\n",
      "(23, 'w')\n",
      "(24, 'x')\n",
      "(25, 'y')\n",
      "(26, 'z')\n"
     ]
    }
   ],
   "source": [
    "# Creando una lista de strings, es mutable\n",
    "letras = 'abcdefghijklmnñopqrstuvwxyz'\n",
    "letras = list(letras)\n",
    "print(letras)\n",
    "\n",
    "# La salida de este print es una tupla temporal por la funcion enumerate que enumera el valor indice y el dato correspondiente a ese indice en la lista, dentro de una tupla como se ve en consola\n",
    "for indice in enumerate(letras):\n",
    "    print(indice)\n"
   ]
  }
 ],
 "metadata": {
  "kernelspec": {
   "display_name": "Python 3",
   "language": "python",
   "name": "python3"
  },
  "language_info": {
   "codemirror_mode": {
    "name": "ipython",
    "version": 3
   },
   "file_extension": ".py",
   "mimetype": "text/x-python",
   "name": "python",
   "nbconvert_exporter": "python",
   "pygments_lexer": "ipython3",
   "version": "3.12.3"
  }
 },
 "nbformat": 4,
 "nbformat_minor": 2
}
