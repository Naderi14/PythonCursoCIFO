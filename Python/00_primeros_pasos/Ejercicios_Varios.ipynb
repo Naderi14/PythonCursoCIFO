{
 "cells": [
  {
   "cell_type": "markdown",
   "metadata": {},
   "source": [
    "3. Escribir un programa que pida al usuario que introduzca una frase en la consola y una vocal, y despues muestres por pantalla la misma frase pero con la vocal introducida en mayúscula. Método .replace(datoASustituir, datoSustituible)"
   ]
  },
  {
   "cell_type": "code",
   "execution_count": 3,
   "metadata": {},
   "outputs": [
    {
     "name": "stdout",
     "output_type": "stream",
     "text": [
      "Me gustA lA vocAl\n"
     ]
    }
   ],
   "source": [
    "frase = input(\"Introduce primero una frase: \")\n",
    "vocal = input(\"Ahora introduce una vocal: \").lower()\n",
    "\n",
    "fraseFinal = frase.replace(vocal, vocal.upper())\n",
    "\n",
    "print(fraseFinal)"
   ]
  },
  {
   "cell_type": "markdown",
   "metadata": {},
   "source": [
    "4. Escribir un programa que le solicite al usuario el lado de un cuadrado, calcule su área y la imprima por consola."
   ]
  },
  {
   "cell_type": "code",
   "execution_count": 14,
   "metadata": {},
   "outputs": [
    {
     "name": "stdout",
     "output_type": "stream",
     "text": [
      "El area del cuadrado es 400 cm\n",
      "El area del cuadrado es 400 cm\n"
     ]
    }
   ],
   "source": [
    "ladoCuadrado = int(input('Introduce el valor de un lado de un cuadrado en cm: '))\n",
    "\n",
    "areaCuadrado = ladoCuadrado ** 2\n",
    "\n",
    "# Dos formas para imprimir resultados\n",
    "print(f\"El area del cuadrado es {areaCuadrado} cm\") \n",
    "print('El area del cuadrado es {} cm'.format(areaCuadrado))"
   ]
  },
  {
   "cell_type": "markdown",
   "metadata": {},
   "source": [
    "5. Escribir un programa que almacene las asignaturas de un curso (por ejemplo Matematicas) en una lista y la muestre por pantalla."
   ]
  },
  {
   "cell_type": "code",
   "execution_count": 23,
   "metadata": {},
   "outputs": [
    {
     "name": "stdout",
     "output_type": "stream",
     "text": [
      "Vas a cursar: \n",
      "Matematicas\n",
      "Castellano\n",
      "Sociales\n",
      "Naturales\n",
      "Programacion\n"
     ]
    }
   ],
   "source": [
    "listaArray = ['Matematicas', 'Castellano', 'Sociales', 'Naturales', 'Programacion']\n",
    "\n",
    "print('Vas a cursar: ')\n",
    "for i in range (0, listaArray.__len__()):\n",
    "    print(f'{listaArray[i]}')"
   ]
  },
  {
   "cell_type": "markdown",
   "metadata": {},
   "source": [
    "6. Vamos a escribir un programa que almacene las asignaturas de un curso en una lista. Pregunta al usuario la nota que ha sacado en cada asignatura y después la muestre por pantalla con el mensaje: \"En (asignatura) has sacado un (nota)\" donde asignatura es cada una de la lista y nota cada una de las correspondientes notas introducidas por el usuario."
   ]
  },
  {
   "cell_type": "code",
   "execution_count": 31,
   "metadata": {},
   "outputs": [
    {
     "name": "stdout",
     "output_type": "stream",
     "text": [
      "En Matematicas has sacado un 8.0.\n",
      "En Castellano has sacado un 6.0.\n",
      "En Sociales has sacado un 4.0.\n",
      "En Naturales has sacado un 5.0.\n",
      "En Programacion has sacado un 7.0.\n"
     ]
    }
   ],
   "source": [
    "asignaturas = [\"Matematicas\", \"Castellano\", \"Sociales\", \"Naturales\", \"Programacion\"]\n",
    "notas = []\n",
    "\n",
    "for nota in range (0, asignaturas.__len__()):\n",
    "    notaActual = float(input(f'Introduce la nota de {asignaturas[nota]}: '))\n",
    "    notas.append(notaActual)  #append() es una funcion herenciada de array que sirve para introducir un nuevo valor al final del array aun no tener indice declarado\n",
    "\n",
    "for i in range (len(asignaturas)):\n",
    "    print(f'En {asignaturas[i]} has sacado un {notas[i]}.')"
   ]
  },
  {
   "cell_type": "code",
   "execution_count": 33,
   "metadata": {},
   "outputs": [
    {
     "name": "stdout",
     "output_type": "stream",
     "text": [
      "En Matematicas, ha obtenido la puntuación 9.0\n",
      "En Castellano, ha obtenido la puntuación 5.0\n",
      "En Sociales, ha obtenido la puntuación 6.0\n",
      "En Naturales, ha obtenido la puntuación 4.0\n",
      "En Programacion, ha obtenido la puntuación 7.0\n",
      "Fin del programa\n"
     ]
    }
   ],
   "source": [
    "#EJERCICIO 6 HECHO POR MANU\n",
    "asignaturas = 'Matematicas,Castellano,Sociales,Naturales,Programacion'\n",
    "asignaturas = asignaturas.split(',')\n",
    "\n",
    "notas = []\n",
    "\n",
    "for i in asignaturas:\n",
    "    nota = float(input('Introduce la nota de la asignatura {}: '.format(i)))\n",
    "    notas.append(nota)\n",
    "\n",
    "for i in range(len(notas)):\n",
    "    print('En {}, ha obtenido la puntuación {}'.format(asignaturas[i], notas[i]))\n",
    "\n",
    "print('Fin del programa')"
   ]
  },
  {
   "cell_type": "markdown",
   "metadata": {},
   "source": [
    "7. Escribir un programa que pregunte al usuario los numeros ganadores de la loteria primitiva, los alamcene en una lista y los muestre por pantalla ordenados de menor a mayor"
   ]
  },
  {
   "cell_type": "code",
   "execution_count": 38,
   "metadata": {},
   "outputs": [
    {
     "name": "stdout",
     "output_type": "stream",
     "text": [
      "Numero ganador 1: 8\n",
      "Numero ganador 2: 12\n",
      "Numero ganador 3: 34\n",
      "Numero ganador 4: 52\n",
      "Numero ganador 5: 65\n",
      "Numero ganador 6: 85\n"
     ]
    }
   ],
   "source": [
    "numerosLoteria = []\n",
    "\n",
    "for i in range(0, 6):\n",
    "    numero = int(input('Introduce el número {}'.format(i + 1)))\n",
    "    numerosLoteria.append(numero)\n",
    "\n",
    "numerosLoteria.sort()\n",
    "\n",
    "for numero in range(len(numerosLoteria)):\n",
    "    print('Numero ganador {}: {}'.format(numero + 1, numerosLoteria[numero]))\n",
    "\n",
    "#No esta bien hecho mi ejercicio pero lo dejaré para tener el ejemplo"
   ]
  },
  {
   "cell_type": "code",
   "execution_count": 39,
   "metadata": {},
   "outputs": [
    {
     "name": "stdout",
     "output_type": "stream",
     "text": [
      "La combinacion ganadora es: 2,3,4,5,8,9\n"
     ]
    }
   ],
   "source": [
    "#EJERCICIO POR MANU\n",
    "combinacion = []\n",
    "\n",
    "for i in range(6):\n",
    "    combinacion.append(int(input(f'Introduce el número {i+1} ganador')))\n",
    "\n",
    "combinacion.sort()\n",
    "\n",
    "salida = ','.join(str(i) for i in combinacion)\n",
    "print(f'La combinacion ganadora es: {salida}')"
   ]
  },
  {
   "cell_type": "markdown",
   "metadata": {},
   "source": [
    "Haz una calculadora básica pida al usuario dos valores. Según la opcion que desean, realizar la operacion"
   ]
  },
  {
   "cell_type": "code",
   "execution_count": 9,
   "metadata": {},
   "outputs": [
    {
     "name": "stdout",
     "output_type": "stream",
     "text": [
      "Suma ( + )\n",
      "Resta ( - )\n",
      "Multiplicación ( * )\n",
      "División ( / )\n",
      "30\n"
     ]
    }
   ],
   "source": [
    "def Suma(num1, num2):\n",
    "    return num1 + num2\n",
    "\n",
    "def Resta(num1, num2):\n",
    "    return num1 - num2\n",
    "\n",
    "def Multi(num1, num2):\n",
    "    return num1 * num2\n",
    "\n",
    "def Division(num1, num2):\n",
    "    return num1 / num2\n",
    "\n",
    "num1 = input('Introduce el numero 1')\n",
    "num2 = input('Introduce el numero 2')\n",
    "\n",
    "if(not(num1.isdigit()) and not(num1.isdigit())):\n",
    "    print(\"Uno de los 2 numeros no es numerico\")\n",
    "\n",
    "else:\n",
    "    print(\"Suma ( + )\")\n",
    "    print(\"Resta ( - )\")\n",
    "    print(\"Multiplicación ( * )\")\n",
    "    print(\"División ( / )\")\n",
    "\n",
    "    opcion = input('Introduce la opción del menú')\n",
    "\n",
    "    match opcion:\n",
    "        case \"+\":\n",
    "            print(Suma(int(num1), int(num2)))\n",
    "        case \"-\":\n",
    "            print(Resta(int(num1), int(num2)))\n",
    "        case \"*\":\n",
    "            print(Multi(int(num1), int(num2)))\n",
    "        case \"/\":\n",
    "            print(Division(int(num1), int(num2)))\n",
    "        case _:\n",
    "            print(\"Ha habido un error de lectura con la opcion introducida\")\n",
    "\n",
    "    \n",
    "\n",
    "        "
   ]
  },
  {
   "cell_type": "markdown",
   "metadata": {},
   "source": [
    "Realiza un programa que genere una tabla de multiplicar con el numero deseado"
   ]
  },
  {
   "cell_type": "code",
   "execution_count": 23,
   "metadata": {},
   "outputs": [
    {
     "name": "stdout",
     "output_type": "stream",
     "text": [
      "El numero final de la tabla introducido es menor que 1, no se ha podido generar la tabla\n"
     ]
    }
   ],
   "source": [
    "#Tabla de multiplicar\n",
    "control = True\n",
    "indice = 1\n",
    "numero = int(input('Introduce el número a multiplicar'))\n",
    "numeroFinal = int(input('Introduce el número final de la tabla de multiplicar'))\n",
    "\n",
    "while control:\n",
    "    if numeroFinal < 1:\n",
    "        print(\"El numero final de la tabla introducido es menor que 1, no se ha podido generar la tabla\")\n",
    "        break\n",
    "\n",
    "    print(numero, \" x \", indice, \" = \", numero * indice)\n",
    "\n",
    "    if indice >= numeroFinal:\n",
    "        control = False\n",
    "        \n",
    "    indice += 1\n",
    "else:\n",
    "    print(\"La tabla de multiplicar ha terminado\")\n"
   ]
  },
  {
   "cell_type": "markdown",
   "metadata": {},
   "source": [
    "Ejercicio parecido al anterior pero representando todas las tablas de multiplicar del 1 al 9"
   ]
  },
  {
   "cell_type": "code",
   "execution_count": null,
   "metadata": {},
   "outputs": [],
   "source": [
    "control = True\n",
    "numero = 1\n",
    "indice = 1\n",
    "\n",
    "while control:\n",
    "    if numero > 9:\n",
    "        control = False\n",
    "\n",
    "    print(\"Tabla del\", numero)\n",
    "    while indice <= 10:\n",
    "        # print(numero, \" x \", indice, \" = \", numero * indice)\n",
    "        resultado = numero * indice\n",
    "        print(f'{numero} x {indice} = {resultado}') # Tambien se puede hacer así\n",
    "        indice += 1\n",
    "    \n",
    "    indice = 1\n",
    "    numero += 1\n",
    "    print(\"\")\n",
    "    "
   ]
  },
  {
   "cell_type": "markdown",
   "metadata": {},
   "source": [
    "## Ejercicios con bucles\n",
    "**Ejercicio 1:**\n",
    "Escribir un programa que pida al usuario una palabra y la muestre por pantalla 10 veces"
   ]
  },
  {
   "cell_type": "code",
   "execution_count": 43,
   "metadata": {},
   "outputs": [
    {
     "name": "stdout",
     "output_type": "stream",
     "text": [
      "Rep. Bucle WHILE 1: Texto introducido por el usuario\n",
      "Rep. Bucle WHILE 2: Texto introducido por el usuario\n",
      "Rep. Bucle WHILE 3: Texto introducido por el usuario\n",
      "Rep. Bucle WHILE 4: Texto introducido por el usuario\n",
      "Rep. Bucle WHILE 5: Texto introducido por el usuario\n",
      "Rep. Bucle WHILE 6: Texto introducido por el usuario\n",
      "Rep. Bucle WHILE 7: Texto introducido por el usuario\n",
      "Rep. Bucle WHILE 8: Texto introducido por el usuario\n",
      "Rep. Bucle WHILE 9: Texto introducido por el usuario\n",
      "Rep. Bucle WHILE 10: Texto introducido por el usuario\n",
      "\n",
      "Rep. Bucle FOR 1: Texto introducido por el usuario\n",
      "Rep. Bucle FOR 2: Texto introducido por el usuario\n",
      "Rep. Bucle FOR 3: Texto introducido por el usuario\n",
      "Rep. Bucle FOR 4: Texto introducido por el usuario\n",
      "Rep. Bucle FOR 5: Texto introducido por el usuario\n",
      "Rep. Bucle FOR 6: Texto introducido por el usuario\n",
      "Rep. Bucle FOR 7: Texto introducido por el usuario\n",
      "Rep. Bucle FOR 8: Texto introducido por el usuario\n",
      "Rep. Bucle FOR 9: Texto introducido por el usuario\n",
      "Rep. Bucle FOR 10: Texto introducido por el usuario\n"
     ]
    }
   ],
   "source": [
    "palabra = input('Introduce una palabra')\n",
    "contador = 0\n",
    "\n",
    "#Bucle While\n",
    "while contador < 10:\n",
    "    print(f\"Rep. Bucle WHILE {contador + 1}: {palabra}\")\n",
    "    contador += 1\n",
    "print(\"\")\n",
    "# Bucle For\n",
    "for contador in range(10):\n",
    "    print(f\"Rep. Bucle FOR {contador + 1}: {palabra}\")\n"
   ]
  },
  {
   "cell_type": "markdown",
   "metadata": {},
   "source": [
    "**Ejercicio 2:**\n",
    "Escribir un programa que pida al usuario un número entero positivo y muestre por pantalla todos los numeros impares desde 1 hasta ese numero separados por comas."
   ]
  },
  {
   "cell_type": "code",
   "execution_count": 56,
   "metadata": {},
   "outputs": [
    {
     "name": "stdout",
     "output_type": "stream",
     "text": [
      "Estos son los impares des del 1: \n",
      "1,3,5,7,9,11,13,15,17,19,21,23,25\n"
     ]
    }
   ],
   "source": [
    "numeroIntroducido = int(input('Introduzca un numero para decir todos los numeros impares hasta este'))\n",
    "listaNumeros = []\n",
    "\n",
    "print(\"Estos son los impares des del 1: \")\n",
    "for numero in range(1, numeroIntroducido + 1):\n",
    "    if numero % 2 != 0:\n",
    "        listaNumeros.append(str(numero))\n",
    "    else:\n",
    "        continue\n",
    "# Aqui asignaremos la listaNumeros a un resultado que sera tipo char, y concatenaremos toda la lista en un solo string con la funcion .join() heredada de tipo string\n",
    "resultado = ','.join(listaNumeros)\n",
    "print(resultado)"
   ]
  },
  {
   "cell_type": "code",
   "execution_count": 58,
   "metadata": {},
   "outputs": [
    {
     "name": "stdout",
     "output_type": "stream",
     "text": [
      "Estos son los impares des del 1: \n",
      "1,3,5,7,9,11,13,15,17,19,21,23\n"
     ]
    }
   ],
   "source": [
    "# Solucion por bucle de compresion que deberia ser lo realmente correcto e ideal en python\n",
    "numero = int(input('Introduce un numero'))\n",
    "print(\"Estos son los impares des del 1: \")\n",
    "resultado = ','.join(str(i) for i in range(1, numero, 2))\n",
    "print(resultado)"
   ]
  },
  {
   "cell_type": "markdown",
   "metadata": {},
   "source": [
    "**Ejercicio 3:**\n",
    "Escribir un programa que almacene las asignaturas de un curso en una lista, pregunte al usuario la nota que ha sacado en cada asignatura y elimine de la lista las asignaturas aprobadas. Al final el programa debe mostrar por pantalla las asignaturas que el usuario tiene que repetir."
   ]
  },
  {
   "cell_type": "code",
   "execution_count": 60,
   "metadata": {},
   "outputs": [
    {
     "ename": "TypeError",
     "evalue": "list indices must be integers or slices, not str",
     "output_type": "error",
     "traceback": [
      "\u001b[1;31m---------------------------------------------------------------------------\u001b[0m",
      "\u001b[1;31mTypeError\u001b[0m                                 Traceback (most recent call last)",
      "Cell \u001b[1;32mIn[60], line 6\u001b[0m\n\u001b[0;32m      4\u001b[0m     calificacion \u001b[38;5;241m=\u001b[39m \u001b[38;5;28mint\u001b[39m(\u001b[38;5;28minput\u001b[39m(\u001b[38;5;124m'\u001b[39m\u001b[38;5;124mIntroduce la nota correspondiente con\u001b[39m\u001b[38;5;124m'\u001b[39m))\n\u001b[0;32m      5\u001b[0m     \u001b[38;5;28;01mif\u001b[39;00m calificacion \u001b[38;5;241m>\u001b[39m\u001b[38;5;241m=\u001b[39m \u001b[38;5;241m5\u001b[39m:\n\u001b[1;32m----> 6\u001b[0m         \u001b[43mlistaAsignaturas\u001b[49m\u001b[43m[\u001b[49m\u001b[43mi\u001b[49m\u001b[43m]\u001b[49m\u001b[38;5;241m.\u001b[39mpop()\n\u001b[0;32m      8\u001b[0m \u001b[38;5;28mprint\u001b[39m(\u001b[38;5;124m\"\u001b[39m\u001b[38;5;124mAsignaturas pendientes para aprobar\u001b[39m\u001b[38;5;124m\"\u001b[39m)\n\u001b[0;32m      9\u001b[0m \u001b[38;5;28mprint\u001b[39m(listaAsignaturas)\n",
      "\u001b[1;31mTypeError\u001b[0m: list indices must be integers or slices, not str"
     ]
    }
   ],
   "source": [
    "listaAsignaturas = ['Matemáticas','Castellano','Catalán','Tecnologia','Ciencias Naturales','Educación Física']\n",
    "\n",
    "for i in listaAsignaturas:\n",
    "    calificacion = int(input('Introduce la nota correspondiente con'))\n",
    "    if calificacion >= 5:\n",
    "        listaAsignaturas[i].pop()\n",
    "\n",
    "print(\"Asignaturas pendientes para aprobar\")\n",
    "print(listaAsignaturas)\n",
    "\n"
   ]
  },
  {
   "cell_type": "markdown",
   "metadata": {},
   "source": [
    "## Ejercicios de Funciones\n",
    "**Ejercicio 1:** Escribir una funcion que calcule el total de una factura tras aplicarle el IVA. La función debe recibir la cantidad sin IVA y el porcentaje de IVA a aplicar, y devolver el total de la factura. Si se invoca la funcion sin pasarle el porcentaje de IVA, deberá aplicar un 21%"
   ]
  },
  {
   "cell_type": "code",
   "execution_count": 20,
   "metadata": {},
   "outputs": [
    {
     "name": "stdout",
     "output_type": "stream",
     "text": [
      "Precio Final: 350.9€ | Aplicando un 21% IVA\n",
      "Precio Final: 324.8€ | Aplicando un 12% IVA\n",
      "Precio Final: 77.44€ | Aplicando un 21% IVA\n",
      "Precio Final: 87.68€ | Aplicando un 37% IVA\n",
      "Help on function AplicarIVASolo in module __main__:\n",
      "\n",
      "AplicarIVASolo(precio, iva=21)\n",
      "    Funcion que aplica el IVA a una factura\n",
      "    Parámetros:\n",
      "        - precio: Cantidad de la factura sin IVA\n",
      "        - iva: El porcentaje de IVA, por defecto 21%\n",
      "    Salida:\n",
      "        - numero real con el total de la factura una vez aplicado el IVA\n",
      "\n"
     ]
    }
   ],
   "source": [
    "# Solución 1: Devolver un tipo string incluyendo el resultado\n",
    "def AplicarIVAImpreso(precio, iva = 21):\n",
    "    total = precio + precio * iva / 100\n",
    "    return print(f'Precio Final: {total}€ | Aplicando un {int(iva)}% IVA')\n",
    "\n",
    "AplicarIVAImpreso(290)\n",
    "AplicarIVAImpreso(290, 12)\n",
    "\n",
    "# Solución 2: Devolver un tipo double pero necesitando declarar la variable 'iva' para poder notificar el iva aplicado al precio.\n",
    "iva = 37\n",
    "def AplicarIVASolo(precio, iva = 21):\n",
    "    '''\n",
    "        Funcion que aplica el IVA a una factura\n",
    "        Parámetros:\n",
    "            - precio: Cantidad de la factura sin IVA\n",
    "            - iva: El porcentaje de IVA, por defecto 21%\n",
    "        Salida:\n",
    "            - numero real con el total de la factura una vez aplicado el IVA\n",
    "    '''\n",
    "    return precio + precio * iva / 100\n",
    "\n",
    "print(f'Precio Final: {AplicarIVASolo(64)}€ | Aplicando un 21% IVA')\n",
    "print(f'Precio Final: {AplicarIVASolo(64, iva)}€ | Aplicando un {iva}% IVA')\n",
    "\n",
    "help(AplicarIVASolo)\n",
    "\n"
   ]
  },
  {
   "cell_type": "markdown",
   "metadata": {},
   "source": [
    "**Ejercicio 2:** Escribir una funcion que calcule el área de un cículo y otra que calcule el volumen de un cilindro usando la primera función"
   ]
  },
  {
   "cell_type": "code",
   "execution_count": 33,
   "metadata": {},
   "outputs": [
    {
     "name": "stdout",
     "output_type": "stream",
     "text": [
      "653.45 cm\n"
     ]
    }
   ],
   "source": [
    "import math\n",
    "\n",
    "def AreaCirculo(radio):\n",
    "    '''\n",
    "        Funcion para calcular la área de un círculo\n",
    "        Parametros:\n",
    "            - radio : radio del círculo\n",
    "        Salida: el cálculo del área del círculo \n",
    "    '''\n",
    "    return radio**2 * math.pi\n",
    "\n",
    "def VolumenCilindro(altura, radio):\n",
    "    '''\n",
    "        Funcion para calcular el volumen de un cilindro a partir del area de un círculo y su altura\n",
    "        Parametros:\n",
    "            - radio : radio del círculo que servirá para pasarle el parámetro como argumento para AreaCirculo()\n",
    "            - altura: dato que se calculará en esta función junto con el resultado de la otra\n",
    "        Salida: el cálculo del volumen del cilindro\n",
    "    '''\n",
    "    return AreaCirculo(radio) * altura\n",
    "\n",
    "print(round(VolumenCilindro(13, 4), 2), 'cm')"
   ]
  },
  {
   "cell_type": "markdown",
   "metadata": {},
   "source": [
    "**Ejercicio 3:** Escribir una función que reciba una muestra de números en una lista y devuelva otra lista con sus cuadrados"
   ]
  },
  {
   "cell_type": "code",
   "execution_count": 68,
   "metadata": {},
   "outputs": [
    {
     "name": "stdout",
     "output_type": "stream",
     "text": [
      "(1, 2, 3, 4, 5, 6, 7, 8)\n",
      "[1, 4, 9, 16, 25, 36, 49, 64]\n",
      "[1, 4, 9, 16, 25, 36, 49, 64]\n",
      "[1, 4, 9, 16, 25, 36, 49, 64]\n",
      "1, 4, 9, 16, 25, 36, 64\n"
     ]
    }
   ],
   "source": [
    "listaNumeros = 1,2,3,4,5,6,7,8\n",
    "print(listaNumeros)\n",
    "\n",
    "# Solucion 1\n",
    "def CalcularCuadrados1(lista):\n",
    "    listaCuadrados = []\n",
    "    for cuadrado in range (len(lista)):\n",
    "        listaCuadrados.append(lista[cuadrado] ** 2)\n",
    "    return listaCuadrados\n",
    "print(CalcularCuadrados1(listaNumeros))\n",
    "\n",
    "# Solucion 2\n",
    "def CalcularCuadrados2(lista):\n",
    "    listaCuadrados = []\n",
    "    for cuadrado in lista:\n",
    "        listaCuadrados.append(cuadrado ** 2)\n",
    "    return listaCuadrados\n",
    "print(CalcularCuadrados2(listaNumeros))\n",
    "\n",
    "# Solucion 3\n",
    "def CalcularCuadrados3(lista):\n",
    "    listaCuadrados = [x ** 2 for x in lista]\n",
    "    return listaCuadrados\n",
    "print(CalcularCuadrados3(listaNumeros))\n",
    "\n",
    "# Solucion 4\n",
    "def CalcularCuadrados4(listaNumeros):\n",
    "    lista = [x ** 2 for x in listaNumeros]\n",
    "    return lista\n",
    "print(', '.join(str(i) for i in CalcularCuadrados4([1,2,3,4,5,6,8])))\n"
   ]
  },
  {
   "cell_type": "markdown",
   "metadata": {},
   "source": [
    "**Ejercicio 4:** Escribir 2 funciones que permitan calcular la cantidad de segundos en un tiempo dado en horas, minutos y segundos. La cantidad de horas, minutos y segundos de un tiempo dado en segundos. Escribe un programa principal con menú donde se pueda elegir la opcion de convertir a segundos, convertir a horas, minutos y segundos o salir del programa."
   ]
  },
  {
   "cell_type": "code",
   "execution_count": 3,
   "metadata": {},
   "outputs": [
    {
     "name": "stdout",
     "output_type": "stream",
     "text": [
      "------ Bienvenido TempusCalculator------\n",
      "1. Segundos, Minutos y Horas ===> Segundos\n",
      "2. Segundos ===> Segundos, Minutos y Horas \n",
      "3. Salir del Programa\n",
      "Horas: 2 | Minutos: 30 | Segundos: 20\n",
      "1. Segundos, Minutos y Horas ===> Segundos\n",
      "2. Segundos ===> Segundos, Minutos y Horas \n",
      "3. Salir del Programa\n",
      "Hasta la próxima!\n"
     ]
    }
   ],
   "source": [
    "salir = False\n",
    "print('------ Bienvenido TempusCalculator------')\n",
    "\n",
    "def segundos_SegMinHoras(segundosIn):\n",
    "    horas = int(segundosIn / 3600)\n",
    "    minutos = int(segundosIn / 60) - horas * 60\n",
    "    segundosOut = segundosIn - (minutos * 60 + horas * 3600)\n",
    "    \n",
    "    print(f'Horas: {horas} | Minutos: {minutos} | Segundos: {segundosOut}')\n",
    "\n",
    "def segMinHoras_Segundos(segundosIn, minutos, horas):\n",
    "    segundosOut = segundosIn + (minutos * 60) + ((horas * 60) * 60)\n",
    "    return print(f'Segundos: {segundosOut}')\n",
    "\n",
    "while(salir == False):\n",
    "    print('1. Segundos, Minutos y Horas ===> Segundos')\n",
    "    print('2. Segundos ===> Segundos, Minutos y Horas ')\n",
    "    print('3. Salir del Programa')\n",
    "    opcion = input('Introduzca la opcion del menú deseada:')\n",
    "\n",
    "    match opcion:\n",
    "        case '1':\n",
    "            segundos = int(input('Introduzca segundos'))\n",
    "            minutos = int(input('Introduzca minutos'))\n",
    "            horas = int(input('Introduzca horas'))\n",
    "            segMinHoras_Segundos(segundos, minutos, horas)\n",
    "        case '2':\n",
    "            segundos_SegMinHoras(int(input('Introduzca segundos')))\n",
    "        case '3':\n",
    "            salir = True\n",
    "        case _:\n",
    "            print('La opción introducida no es correcta\\n')\n",
    "\n",
    "print('Hasta la próxima!')\n"
   ]
  },
  {
   "cell_type": "markdown",
   "metadata": {},
   "source": [
    "**Ejercicio 5:** Crear una subrutina llamada \"Login\", que recibe un nombre de usuario y una contraseña y te devuelve Verdadero si el nombre de usuario es \"usuario1\" y la contraseña es \"asdasd\". Además recibe el numero de intentos que se ha intentado hacer login y si no se ha podido hacer login incremente ese valor."
   ]
  },
  {
   "cell_type": "code",
   "execution_count": 9,
   "metadata": {},
   "outputs": [
    {
     "name": "stdout",
     "output_type": "stream",
     "text": [
      "Introduzca su nombre de usuario y contraseña para el Login; Tiene 3 intentos\n",
      "Bienvenido Usuario1 a la plataforma.\n"
     ]
    }
   ],
   "source": [
    "intentos = 3\n",
    "flag = False\n",
    "\n",
    "def Login(username = \"\", password = \"\"):\n",
    "    return username == \"usuario1\" and password == \"asdasd\"\n",
    "\n",
    "while(flag == False and intentos > 0):\n",
    "    print(f\"Introduzca su nombre de usuario y contraseña para el Login; Tiene {intentos} intentos\")\n",
    "    nombreUsuario = input('Nombre de Usuario')\n",
    "    contrasena = input('Contraseña')\n",
    "\n",
    "    if Login(nombreUsuario, contrasena) == False and intentos > 0:\n",
    "        intentos -= 1\n",
    "        print(f\"\\nSu usuario o contraseña no es correcto\")\n",
    "    else:\n",
    "        flag = True\n",
    "\n",
    "if(intentos == 0):\n",
    "    print(\"Se le ha bloqueado el acceso a su cuenta, póngase en contacto con soporte técnico\")\n",
    "else:\n",
    "    print(\"Bienvenido Usuario1 a la plataforma.\")\n",
    "    \n"
   ]
  },
  {
   "cell_type": "markdown",
   "metadata": {},
   "source": [
    "**Ejercicio 6:** Crear una función que calcule el MCD de dos números por el método de Euclides. El método Euclides es el siguiente:\n",
    "- Se divide el número mayor entre el menor.\n",
    "- Si la división es exacta, el divisor es el MCD.\n",
    "- Si la división no es exacta, dividimos el divisor entre el resto obtenido y se continúa de esta forma hasta obtener una división exacta, siendo el último divisor el MCD.\n",
    "\n",
    "Crear un programa principal que lea dos números enteros y muestre el MCD."
   ]
  },
  {
   "cell_type": "code",
   "execution_count": 19,
   "metadata": {},
   "outputs": [
    {
     "name": "stdout",
     "output_type": "stream",
     "text": [
      "Bienvenido al calcudador del Mínimo Común Divisor\n",
      "Introduzca los 2 números seguidamente\n",
      "El número 20 tiene residuo Mínimo Común Divisor de 77 con 5 divisiones, siendo el MCD real: 1\n"
     ]
    }
   ],
   "source": [
    "def CalcularMCD(num1, num2):\n",
    "    global int1, int2, divisiones\n",
    "    divisiones = 0\n",
    "    if num1 > num2:\n",
    "        if num1 % num2 == 0:\n",
    "            mcd = num2\n",
    "        else:\n",
    "            while(num1 % num2 != 0 and num2 > 0):\n",
    "                divisiones += 1\n",
    "                num2 = num1 % num2\n",
    "            if num2 <= 0:\n",
    "                mcd = 0\n",
    "                return mcd \n",
    "            mcd = num2\n",
    "    else:\n",
    "        if num2 % num1 == 0:\n",
    "            mcd = num1\n",
    "        else:\n",
    "            while(num2 % num1 != 0 and num1 > 0):\n",
    "                divisiones += 1\n",
    "                num1 = num2 % num1\n",
    "            if num1 <= 0:\n",
    "                mcd = 0\n",
    "                return mcd \n",
    "            mcd = num1\n",
    "    int1 = num1\n",
    "    int2 = num2\n",
    "    return mcd\n",
    "\n",
    "print(\"Bienvenido al calcudador del Mínimo Común Divisor\\nIntroduzca los 2 números seguidamente\")\n",
    "numero1 = int(input('Numero 1:'))\n",
    "numero2 = int(input('Numero 2:'))\n",
    "mcd = CalcularMCD(numero1, numero2)\n",
    "if mcd == 0:\n",
    "    print(\"No se ha podido encontrar ningún Mínimo Común Divisor entre esos dos números\")\n",
    "else:\n",
    "    if numero1 > numero2:\n",
    "        if divisiones == 0:\n",
    "            print(f\"El número {numero2} es Mínimo Común Divisor de {numero1}\")\n",
    "        else:\n",
    "            print(f\"El número {numero2} tiene residuo Mínimo Común Divisor de {numero1} con {divisiones} divisiones, siendo el MCD real: {int2}\")\n",
    "    else:\n",
    "        if divisiones == 0:\n",
    "            print(f\"El número {numero1} es Mínimo Común Divisor de {numero2}\")\n",
    "        else:\n",
    "            print(f\"El número {numero1} tiene residuo Mínimo Común Divisor de {numero2} con {divisiones} divisiones, siendo el MCD real: {int1}\")\n",
    "\n"
   ]
  }
 ],
 "metadata": {
  "kernelspec": {
   "display_name": "Python 3",
   "language": "python",
   "name": "python3"
  },
  "language_info": {
   "codemirror_mode": {
    "name": "ipython",
    "version": 3
   },
   "file_extension": ".py",
   "mimetype": "text/x-python",
   "name": "python",
   "nbconvert_exporter": "python",
   "pygments_lexer": "ipython3",
   "version": "3.11.9"
  }
 },
 "nbformat": 4,
 "nbformat_minor": 2
}
