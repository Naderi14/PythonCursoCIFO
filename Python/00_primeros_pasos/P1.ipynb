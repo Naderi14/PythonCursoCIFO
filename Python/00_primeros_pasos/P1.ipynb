{
 "cells": [
  {
   "cell_type": "markdown",
   "metadata": {},
   "source": [
    "# CURSO PYTHON C.I.F.O.\n"
   ]
  },
  {
   "cell_type": "markdown",
   "metadata": {},
   "source": [
    "### Este es un bloc de notas de Jypiter con el que trataremos todo el aprendizaje con el lenguaje Python.\n",
    "A continuación vamos a ver el ejemplo mas basico del planeta para ejecutar en Python y ademas imprimiremos los objetos de donde se construyen los valores impresos en lo que se va a imprimir en consola el tipo de objeto de lo que proceden"
   ]
  },
  {
   "cell_type": "code",
   "execution_count": 3,
   "metadata": {},
   "outputs": [
    {
     "name": "stdout",
     "output_type": "stream",
     "text": [
      "¡Hola mundo!\n",
      "<class 'str'>\n",
      "<class 'int'>\n",
      "<class 'float'>\n",
      "<class 'bool'>\n"
     ]
    }
   ],
   "source": [
    "# Esto es un comentario\n",
    "\"\"\"\n",
    "Comentario de mas lineas\n",
    "\"\"\"\n",
    "\n",
    "print(\"¡Hola mundo!\")\n",
    "print(type(\"Hola mundo\"))\n",
    "print(type(25))\n",
    "print(type(0.1))\n",
    "print(type(False))"
   ]
  },
  {
   "cell_type": "markdown",
   "metadata": {},
   "source": [
    "En Python es un lenguaje totalmente basado y orientado a objetos, hay muchas diferencias comparandolo con lenguajes como C#, ademas de cambiar mucho vocabulario sobre palabras reservadas que hay que memorizar las basicas, cambia mucho la sintaxis y la forma de funcionar el flujo del código. Es muy similar al C nativo.\n",
    "\n",
    "A continuacion veremos como declarar variables y asignar valores"
   ]
  },
  {
   "cell_type": "code",
   "execution_count": 4,
   "metadata": {},
   "outputs": [
    {
     "name": "stdout",
     "output_type": "stream",
     "text": [
      "Esto es un texto\n"
     ]
    }
   ],
   "source": [
    "texto = \"Esto es un texto\"\n",
    "print(texto)"
   ]
  },
  {
   "cell_type": "markdown",
   "metadata": {},
   "source": [
    "Vamos a ejecutar una línea de codigo que genera un error y en este caso es porque la variable no esta bien definida y como el codigo va de arriba a abajo aunque asignemos el nombre en la siguiente linea, para el codigo nunca ha tenido valor cuando se encuentra en la linea del print()"
   ]
  },
  {
   "cell_type": "code",
   "execution_count": null,
   "metadata": {},
   "outputs": [],
   "source": [
    "print(nombre)\n",
    "nombre = \"Paco\""
   ]
  },
  {
   "cell_type": "markdown",
   "metadata": {},
   "source": [
    "Vamos a ver el comportamiento de salida de las expresiones y funciones:\n",
    "    - print() -> esto es una función\n",
    "    - 4 + 5 -> esto es una expresión\n",
    "    - suma() -> esto es una expresión\n",
    "    - 50 -> esto es un literal numérico\n",
    "    - \"Manuel\" -> esto es una literal cadena"
   ]
  },
  {
   "cell_type": "code",
   "execution_count": 5,
   "metadata": {},
   "outputs": [
    {
     "name": "stdout",
     "output_type": "stream",
     "text": [
      "9\n",
      "4 + 5\n",
      "37\n",
      "121015\n"
     ]
    },
    {
     "ename": "TypeError",
     "evalue": "unsupported operand type(s) for +: 'int' and 'str'",
     "output_type": "error",
     "traceback": [
      "\u001b[1;31m---------------------------------------------------------------------------\u001b[0m",
      "\u001b[1;31mTypeError\u001b[0m                                 Traceback (most recent call last)",
      "Cell \u001b[1;32mIn[5], line 6\u001b[0m\n\u001b[0;32m      4\u001b[0m nombre \u001b[38;5;241m=\u001b[39m \u001b[38;5;124m\"\u001b[39m\u001b[38;5;124mManuel\u001b[39m\u001b[38;5;124m\"\u001b[39m; \n\u001b[0;32m      5\u001b[0m concatenación \u001b[38;5;241m=\u001b[39m \u001b[38;5;124m\"\u001b[39m\u001b[38;5;124m12\u001b[39m\u001b[38;5;124m\"\u001b[39m \u001b[38;5;241m+\u001b[39m \u001b[38;5;124m\"\u001b[39m\u001b[38;5;124m10\u001b[39m\u001b[38;5;124m\"\u001b[39m \u001b[38;5;241m+\u001b[39m \u001b[38;5;124m\"\u001b[39m\u001b[38;5;124m15\u001b[39m\u001b[38;5;124m\"\u001b[39m; \u001b[38;5;28mprint\u001b[39m(concatenación)\n\u001b[1;32m----> 6\u001b[0m error_concatenación \u001b[38;5;241m=\u001b[39m \u001b[38;5;241m10\u001b[39m \u001b[38;5;241m+\u001b[39m \u001b[38;5;124m\"\u001b[39m\u001b[38;5;124m20\u001b[39m\u001b[38;5;124m\"\u001b[39m; \u001b[38;5;28mprint\u001b[39m(error_concatenación)\n",
      "\u001b[1;31mTypeError\u001b[0m: unsupported operand type(s) for +: 'int' and 'str'"
     ]
    }
   ],
   "source": [
    "print(4 + 5)\n",
    "print(\"4 + 5\") # O tambien se puede hacer print('4 + 5')\n",
    "suma = 12 + 10 + 15; print(suma)\n",
    "nombre = \"Manuel\"; \n",
    "concatenación = \"12\" + \"10\" + \"15\"; print(concatenación)\n",
    "error_concatenación = 10 + \"20\"; print(error_concatenación)\n"
   ]
  }
 ],
 "metadata": {
  "kernelspec": {
   "display_name": "Python 3",
   "language": "python",
   "name": "python3"
  },
  "language_info": {
   "codemirror_mode": {
    "name": "ipython",
    "version": 3
   },
   "file_extension": ".py",
   "mimetype": "text/x-python",
   "name": "python",
   "nbconvert_exporter": "python",
   "pygments_lexer": "ipython3",
   "version": "3.12.3"
  }
 },
 "nbformat": 4,
 "nbformat_minor": 2
}
